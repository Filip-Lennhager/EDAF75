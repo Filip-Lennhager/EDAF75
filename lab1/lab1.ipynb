{
 "cells": [
  {
   "cell_type": "markdown",
   "id": "9aabd399",
   "metadata": {},
   "source": [
    "<!-- # -*- mode: markdown; coding: utf-8; fill-column: 60; org-indent-mode: t; column-number-mode: t; flyspell-mode: t; ispell-local-dictionary: \"en\"; eval: (visual-on); -*- -->\n",
    "\n",
    "<meta charset=\"utf-8\"/>\n",
    "<meta name=\"viewport\" content=\"width=device-width,initial-scale=1\"/>\n",
    "<link rel=\"stylesheet\" href=\"style.css\">\n",
    "\n",
    "\n",
    "# EDAF75 - lab 1: SQL\n",
    "\n",
    "This lab is meant to be run as a `jupyter` notebook, you could download it [here](lab1.zip) (the zip-file contains the notebook and the database, and a [.html-file](lab1.html) which you can read in case you have problems reading/running jupyter notebooks).\n",
    "\n",
    "To start your notebook, you can use the following commands (after you've downloaded [the zip file](lab1.zip) -- observe that the `$` is the shell prompt, you shouldn't type it):"
   ]
  },
  {
   "cell_type": "markdown",
   "id": "637b3836",
   "metadata": {},
   "source": [
    "```sh\n",
    "$ unzip lab1.zip\n",
    "$ jupyter notebook    # or jupyter lab\n",
    "```\n"
   ]
  },
  {
   "cell_type": "markdown",
   "id": "b31f8c24",
   "metadata": {},
   "source": [
    "This should start jupyter in a browser tab, and there you can click \"lab1.ipynb\".\n",
    "\n",
    "\n",
    "# Background\n",
    "\n",
    "We have a database to handle the academic achievements of students at LTH -- in it we have four tables:\n",
    "\n",
    "<hr>\n",
    "<table rules=\"all\">\n",
    " <tr>\n",
    "  <th align=\"left\"><code>students:</code></th>\n",
    "  <th></th>\n",
    " </tr>\n",
    " <tr>\n",
    "  <td><code>ssn</code></td>\n",
    "  <td>social security number</td>\n",
    " </tr>\n",
    " <tr>\n",
    "  <td><code>first_name</code></td>\n",
    "  <td>first name (obviously!)</td>\n",
    " </tr>\n",
    " <tr>\n",
    "  <td><code>last_name</code></td>\n",
    "  <td>last name</td>\n",
    " </tr>\n",
    "</table>\n",
    "\n",
    "<hr>\n",
    "<table rules=\"all\">\n",
    " <tr>\n",
    "  <th align=\"left\"><code>departments:</code></th>\n",
    "  <th></th>\n",
    " </tr>\n",
    " <tr>\n",
    "  <td><code>department_code</code></td>\n",
    "  <td>unique code for each department</td>\n",
    " </tr>\n",
    " <tr>\n",
    "  <td><code>department_name</code></td>\n",
    "  <td>the name of the department, in Swedish</td>\n",
    " </tr>\n",
    "</table>\n",
    "\n",
    "<hr>\n",
    "<table rules=\"all\">\n",
    " <tr>\n",
    "  <th align=\"left\"><code>courses:</code></th>\n",
    "  <th></th>\n",
    " </tr>\n",
    " <tr>\n",
    "  <td><code>course_code</code></td>\n",
    "  <td>course code, like <code>EDAF75</code></td>\n",
    " </tr>\n",
    " <tr>\n",
    "  <td><code>course_name</code></td>\n",
    "  <td>the name of the course, in Swedish (like \"Databasteknik\")</td>\n",
    " </tr>\n",
    " <tr>\n",
    "  <td><code>department_code</code></td>\n",
    "  <td>the department giving the course</td>\n",
    " </tr>\n",
    " <tr>\n",
    "  <td><code>level</code></td>\n",
    "  <td>the course level, like \"G1\", \"G2\", or \"A\"</td>\n",
    " </tr>\n",
    " <tr>\n",
    "  <td><code>credits</code></td>\n",
    "  <td>the number of credits for the course, like 7.5</td>\n",
    " </tr>\n",
    "</table>\n",
    "\n",
    "<hr>\n",
    "<table rules=\"all\">\n",
    " <tr>\n",
    "  <th align=\"left\"><code>taken_courses:</code></th>\n",
    "  <th></th>\n",
    " </tr>\n",
    " <tr>\n",
    "  <td><code>ssn</code></td>\n",
    "  <td>the social security number of a student</td>\n",
    " </tr>\n",
    " <tr>\n",
    "  <td><code>course_code</code></td>\n",
    "  <td>the course code for the course the student has taken</td>\n",
    " </tr>\n",
    " <tr>\n",
    "  <td><code>grade</code></td>\n",
    "  <td>the grade for the student passing the course</td>\n",
    " </tr>\n",
    "</table>\n",
    "\n",
    "<hr>\n",
    "\n",
    "<center>\n",
    "  <img src=\"lab1-uml.png\">\n",
    "</center>\n",
    "\n",
    "Some sample data:"
   ]
  },
  {
   "cell_type": "markdown",
   "id": "62932e0e",
   "metadata": {},
   "source": [
    "```text\n",
    "ssn           first_name   last_name\n",
    "---           ----------   ---------\n",
    "861103–2438   Bo           Ek\n",
    "911212–1746   Eva          Alm\n",
    "950829–1848   Anna         Nyström\n",
    "...           ...          ...\n",
    "\n",
    "department_code  department_name\n",
    "---------------  ----------------------------------------\n",
    "eda              Datavetenskap\n",
    "edi              Informationsteori\n",
    "eem              Elektrisk mätteknik\n",
    "eie              Industriell elektroteknik och automation\n",
    "...              ...\n",
    "\n",
    "course_code  course_name                         department_code  level  credits\n",
    "-----------  ----------------------------------  ---------------  -----  -------\n",
    "ETTN05       Adaptiv signalbehandling            eit              A      7.5\n",
    "FMAN10       Algebraiska strukturer              fma              A      7.5\n",
    "ETIN80       Algoritmer i signalprocessorer...   eit              A      7.5\n",
    "EDAF05       Algoritmer, datastrukturer och...   eda              G2     5.0\n",
    "...          ...                                 ...              ...    ...\n",
    "\n",
    "ssn           course_code   grade\n",
    "---           -----------   -----\n",
    "861103–2438   EDA016        4\n",
    "861103–2438   EDAA01        3\n",
    "911212–1746   EDA016        3\n",
    "...           ...           ...\n",
    "```\n"
   ]
  },
  {
   "cell_type": "markdown",
   "id": "94277573",
   "metadata": {},
   "source": [
    "The tables have been created with the following SQL\n",
    "statements:"
   ]
  },
  {
   "cell_type": "markdown",
   "id": "3ce1751a",
   "metadata": {},
   "source": [
    "```sql\n",
    "CREATE TABLE students (\n",
    "  ssn          CHAR(11),\n",
    "  first_name   TEXT NOT NULL,\n",
    "  last_name    TEXT NOT NULL,\n",
    "  PRIMARY KEY  (ssn)\n",
    ");\n",
    "\n",
    "CREATE TABLE departments (\n",
    "  department_code    TEXT,\n",
    "  department_name    TEXT,\n",
    "  PRIMARY KEY (department_code)\n",
    ");\n",
    "\n",
    "CREATE TABLE courses (\n",
    "  course_code      CHAR(6),\n",
    "  course_name      TEXT NOT NULL,\n",
    "  department_code  TEXT,\n",
    "  level            CHAR(2),\n",
    "  credits          DOUBLE NOT NULL CHECK (credits >= 0),\n",
    "  PRIMARY KEY      (course_code),\n",
    "  FOREIGN KEY      (department_code) REFERENCES departments(department_code)\n",
    ");\n",
    "\n",
    "CREATE TABLE taken_courses (\n",
    "  ssn           CHAR(11),\n",
    "  course_code   CHAR(6),\n",
    "  grade         INTEGER NOT NULL CHECK (grade >= 3 AND grade <= 5),\n",
    "  PRIMARY KEY   (ssn, course_code),\n",
    "  FOREIGN KEY   (ssn) REFERENCES students(ssn),\n",
    "  FOREIGN KEY   (course_code) REFERENCES courses(course_code)\n",
    ");\n",
    "```\n"
   ]
  },
  {
   "cell_type": "markdown",
   "id": "e02782e8",
   "metadata": {},
   "source": [
    "All courses offered at the \"Computer Science and Engineering\" program at LTH during the academic year 2013/14 are in the table 'courses`. Also, the database has been filled with made up data. SQL statements like the following have been used to insert the data:"
   ]
  },
  {
   "cell_type": "markdown",
   "id": "de71b97f",
   "metadata": {},
   "source": [
    "```sql\n",
    "INTO   students(ssn, first_name, last_name)\n",
    "VALUES ('950705-2308', 'Anna', 'Johansson'),\n",
    "       ('930702-3582', 'Anna', 'Johansson'),\n",
    "       ('911212-1746', 'Eva', 'Alm'),\n",
    "       ('910707-3787', 'Eva', 'Nilsson'),\n",
    "       ...\n",
    "```\n"
   ]
  },
  {
   "cell_type": "markdown",
   "id": "2f000365",
   "metadata": {},
   "source": [
    "The information about which departments gives which courses is somewhat haphazard (some of the departments in the database no longer exist, and some of them may never have existed).\n",
    "Our database assumes each course is given by a single department, in real life, departments can share courses -- if you want to practice what we're talking about in week 2 and week 3, try to come up with a modification of the database design, which allows departments to share courses (you can ask your TA about it during the lab session).\n",
    "\n",
    "\n",
    "# Assignments\n",
    "\n",
    "To pass this lab, you only need to show your solutions to the problems marked REVIEW below -- that's the only ones we'll be looking at during the lab sessions.\n",
    "You can skip the other problems at your own discretion, but I strongly recommend that you try them out, for practice.\n",
    "\n",
    "As said above, this lab is designed to be run as a jupyter notebook (either using =jupyter lab=, or =jupyter notebook=).\n",
    "If you haven't been able to get =jupyter= up and running on your computer, you can run the sql-commands for the problems below interactively inside =sqlite3=, or as a script file with all your commands, or inside some IDE, like [DB Browser for SQLite](https://sqlitebrowser.org/).\n",
    "\n",
    "If you're running the lab as a notebook (and hopefully you are!), evaluate the following cells before you begin:"
   ]
  },
  {
   "cell_type": "code",
   "execution_count": 209,
   "id": "95ce919f",
   "metadata": {},
   "outputs": [
    {
     "name": "stdout",
     "output_type": "stream",
     "text": [
      "The sql extension is already loaded. To reload it, use:\n",
      "  %reload_ext sql\n"
     ]
    }
   ],
   "source": [
    "%load_ext sql"
   ]
  },
  {
   "cell_type": "code",
   "execution_count": 210,
   "id": "cebd7ab3",
   "metadata": {},
   "outputs": [],
   "source": [
    "%sql sqlite:///lab1.sqlite"
   ]
  },
  {
   "cell_type": "markdown",
   "id": "6b818832",
   "metadata": {},
   "source": [
    "The tables `students`, `departments`, `courses` and `taken_courses` are already in your database, you can see some of their contents by running the cells below:"
   ]
  },
  {
   "cell_type": "code",
   "execution_count": 211,
   "id": "75d64375",
   "metadata": {},
   "outputs": [
    {
     "name": "stdout",
     "output_type": "stream",
     "text": [
      " * sqlite:///lab1.sqlite\n",
      "Done.\n"
     ]
    },
    {
     "data": {
      "text/html": [
       "<table>\n",
       "    <tr>\n",
       "        <th>ssn</th>\n",
       "        <th>first_name</th>\n",
       "        <th>last_name</th>\n",
       "    </tr>\n",
       "    <tr>\n",
       "        <td>950705-2308</td>\n",
       "        <td>Anna</td>\n",
       "        <td>Johansson</td>\n",
       "    </tr>\n",
       "    <tr>\n",
       "        <td>930702-3582</td>\n",
       "        <td>Anna</td>\n",
       "        <td>Johansson</td>\n",
       "    </tr>\n",
       "    <tr>\n",
       "        <td>911212-1746</td>\n",
       "        <td>Eva</td>\n",
       "        <td>Alm</td>\n",
       "    </tr>\n",
       "    <tr>\n",
       "        <td>910707-3787</td>\n",
       "        <td>Eva</td>\n",
       "        <td>Nilsson</td>\n",
       "    </tr>\n",
       "</table>"
      ],
      "text/plain": [
       "[('950705-2308', 'Anna', 'Johansson'),\n",
       " ('930702-3582', 'Anna', 'Johansson'),\n",
       " ('911212-1746', 'Eva', 'Alm'),\n",
       " ('910707-3787', 'Eva', 'Nilsson')]"
      ]
     },
     "execution_count": 211,
     "metadata": {},
     "output_type": "execute_result"
    }
   ],
   "source": [
    "%%sql\n",
    "SELECT  *\n",
    "FROM    students\n",
    "LIMIT   4"
   ]
  },
  {
   "cell_type": "code",
   "execution_count": 212,
   "id": "73f48884",
   "metadata": {},
   "outputs": [
    {
     "name": "stdout",
     "output_type": "stream",
     "text": [
      " * sqlite:///lab1.sqlite\n",
      "Done.\n"
     ]
    },
    {
     "data": {
      "text/html": [
       "<table>\n",
       "    <tr>\n",
       "        <th>department_code</th>\n",
       "        <th>department_name</th>\n",
       "    </tr>\n",
       "    <tr>\n",
       "        <td>eda</td>\n",
       "        <td>Datavetenskap</td>\n",
       "    </tr>\n",
       "    <tr>\n",
       "        <td>edi</td>\n",
       "        <td>Informationsteori</td>\n",
       "    </tr>\n",
       "    <tr>\n",
       "        <td>eem</td>\n",
       "        <td>Elektrisk mätteknik</td>\n",
       "    </tr>\n",
       "    <tr>\n",
       "        <td>eie</td>\n",
       "        <td>Industriell elektroteknik och automation</td>\n",
       "    </tr>\n",
       "</table>"
      ],
      "text/plain": [
       "[('eda', 'Datavetenskap'),\n",
       " ('edi', 'Informationsteori'),\n",
       " ('eem', 'Elektrisk mätteknik'),\n",
       " ('eie', 'Industriell elektroteknik och automation')]"
      ]
     },
     "execution_count": 212,
     "metadata": {},
     "output_type": "execute_result"
    }
   ],
   "source": [
    "%%sql\n",
    "SELECT  *\n",
    "FROM    departments\n",
    "LIMIT   4"
   ]
  },
  {
   "cell_type": "code",
   "execution_count": 213,
   "id": "a5451069",
   "metadata": {},
   "outputs": [
    {
     "name": "stdout",
     "output_type": "stream",
     "text": [
      " * sqlite:///lab1.sqlite\n",
      "Done.\n"
     ]
    },
    {
     "data": {
      "text/html": [
       "<table>\n",
       "    <tr>\n",
       "        <th>course_code</th>\n",
       "        <th>course_name</th>\n",
       "        <th>department_code</th>\n",
       "        <th>level</th>\n",
       "        <th>credits</th>\n",
       "    </tr>\n",
       "    <tr>\n",
       "        <td>EDA016</td>\n",
       "        <td>Programmeringsteknik</td>\n",
       "        <td>eda</td>\n",
       "        <td>G1</td>\n",
       "        <td>7.5</td>\n",
       "    </tr>\n",
       "    <tr>\n",
       "        <td>EDA031</td>\n",
       "        <td>C++ - programmering</td>\n",
       "        <td>eda</td>\n",
       "        <td>G2</td>\n",
       "        <td>7.5</td>\n",
       "    </tr>\n",
       "    <tr>\n",
       "        <td>EDA040</td>\n",
       "        <td>Realtidsprogrammering</td>\n",
       "        <td>eda</td>\n",
       "        <td>G2</td>\n",
       "        <td>6.0</td>\n",
       "    </tr>\n",
       "    <tr>\n",
       "        <td>EDA050</td>\n",
       "        <td>Operativsystem</td>\n",
       "        <td>eda</td>\n",
       "        <td>G2</td>\n",
       "        <td>4.5</td>\n",
       "    </tr>\n",
       "</table>"
      ],
      "text/plain": [
       "[('EDA016', 'Programmeringsteknik', 'eda', 'G1', 7.5),\n",
       " ('EDA031', 'C++ - programmering', 'eda', 'G2', 7.5),\n",
       " ('EDA040', 'Realtidsprogrammering', 'eda', 'G2', 6.0),\n",
       " ('EDA050', 'Operativsystem', 'eda', 'G2', 4.5)]"
      ]
     },
     "execution_count": 213,
     "metadata": {},
     "output_type": "execute_result"
    }
   ],
   "source": [
    "%%sql\n",
    "SELECT  *\n",
    "FROM    courses\n",
    "LIMIT   4"
   ]
  },
  {
   "cell_type": "code",
   "execution_count": 214,
   "id": "d7685456",
   "metadata": {},
   "outputs": [
    {
     "name": "stdout",
     "output_type": "stream",
     "text": [
      " * sqlite:///lab1.sqlite\n",
      "Done.\n"
     ]
    },
    {
     "data": {
      "text/html": [
       "<table>\n",
       "    <tr>\n",
       "        <th>ssn</th>\n",
       "        <th>course_code</th>\n",
       "        <th>grade</th>\n",
       "    </tr>\n",
       "    <tr>\n",
       "        <td>950705-2308</td>\n",
       "        <td>EITN35</td>\n",
       "        <td>5</td>\n",
       "    </tr>\n",
       "    <tr>\n",
       "        <td>950705-2308</td>\n",
       "        <td>ESS050</td>\n",
       "        <td>3</td>\n",
       "    </tr>\n",
       "    <tr>\n",
       "        <td>950705-2308</td>\n",
       "        <td>ETIN70</td>\n",
       "        <td>4</td>\n",
       "    </tr>\n",
       "    <tr>\n",
       "        <td>950705-2308</td>\n",
       "        <td>FMA140</td>\n",
       "        <td>4</td>\n",
       "    </tr>\n",
       "</table>"
      ],
      "text/plain": [
       "[('950705-2308', 'EITN35', 5),\n",
       " ('950705-2308', 'ESS050', 3),\n",
       " ('950705-2308', 'ETIN70', 4),\n",
       " ('950705-2308', 'FMA140', 4)]"
      ]
     },
     "execution_count": 214,
     "metadata": {},
     "output_type": "execute_result"
    }
   ],
   "source": [
    "%%sql\n",
    "SELECT  *\n",
    "FROM    taken_courses\n",
    "LIMIT   4"
   ]
  },
  {
   "cell_type": "markdown",
   "id": "96cf6661",
   "metadata": {},
   "source": [
    "If you inadvertently change the contents of the tables, you can always recreate the them with the following command (it must be run at the command line):"
   ]
  },
  {
   "cell_type": "markdown",
   "id": "ab0aee21",
   "metadata": {},
   "source": [
    "```sh\n",
    "$ sqlite3 lab1.sqlite < lab1-setup.sql\n",
    "```\n"
   ]
  },
  {
   "cell_type": "markdown",
   "id": "f2d57110",
   "metadata": {},
   "source": [
    "--------------------------------\n",
    "Jump to [next REVIEW problem](#problem_5)\n",
    "--------------------------------\n",
    "\n",
    "<a id='problem_1'></a>\n",
    "\n",
    "## Problem 1 (practice)\n",
    "\n",
    "What are the names (first name and last name) of all the students?"
   ]
  },
  {
   "cell_type": "code",
   "execution_count": 215,
   "id": "8a03fba9",
   "metadata": {},
   "outputs": [
    {
     "name": "stdout",
     "output_type": "stream",
     "text": [
      " * sqlite:///lab1.sqlite\n",
      "Done.\n"
     ]
    },
    {
     "data": {
      "text/html": [
       "<table>\n",
       "    <tr>\n",
       "        <th>first_name</th>\n",
       "        <th>last_name</th>\n",
       "    </tr>\n",
       "    <tr>\n",
       "        <td>Anna</td>\n",
       "        <td>Johansson</td>\n",
       "    </tr>\n",
       "    <tr>\n",
       "        <td>Anna</td>\n",
       "        <td>Johansson</td>\n",
       "    </tr>\n",
       "    <tr>\n",
       "        <td>Eva</td>\n",
       "        <td>Alm</td>\n",
       "    </tr>\n",
       "    <tr>\n",
       "        <td>Eva</td>\n",
       "        <td>Nilsson</td>\n",
       "    </tr>\n",
       "    <tr>\n",
       "        <td>Elaine</td>\n",
       "        <td>Robertson</td>\n",
       "    </tr>\n",
       "    <tr>\n",
       "        <td>Maria</td>\n",
       "        <td>Nordman</td>\n",
       "    </tr>\n",
       "    <tr>\n",
       "        <td>Helena</td>\n",
       "        <td>Troberg</td>\n",
       "    </tr>\n",
       "    <tr>\n",
       "        <td>Lotta</td>\n",
       "        <td>Emanuelsson</td>\n",
       "    </tr>\n",
       "    <tr>\n",
       "        <td>Anna</td>\n",
       "        <td>Nyström</td>\n",
       "    </tr>\n",
       "    <tr>\n",
       "        <td>Maria</td>\n",
       "        <td>Andersson</td>\n",
       "    </tr>\n",
       "    <tr>\n",
       "        <td>Marie</td>\n",
       "        <td>Persson</td>\n",
       "    </tr>\n",
       "    <tr>\n",
       "        <td>Märit</td>\n",
       "        <td>Aspegren</td>\n",
       "    </tr>\n",
       "    <tr>\n",
       "        <td>Ylva</td>\n",
       "        <td>Jacobsson</td>\n",
       "    </tr>\n",
       "    <tr>\n",
       "        <td>Frida</td>\n",
       "        <td>Weidel</td>\n",
       "    </tr>\n",
       "    <tr>\n",
       "        <td>Caroline</td>\n",
       "        <td>Olsson</td>\n",
       "    </tr>\n",
       "    <tr>\n",
       "        <td>Karolin</td>\n",
       "        <td>Ek</td>\n",
       "    </tr>\n",
       "    <tr>\n",
       "        <td>Eva</td>\n",
       "        <td>Hjort</td>\n",
       "    </tr>\n",
       "    <tr>\n",
       "        <td>Sofia</td>\n",
       "        <td>Kjellberg</td>\n",
       "    </tr>\n",
       "    <tr>\n",
       "        <td>Tina</td>\n",
       "        <td>Lööf</td>\n",
       "    </tr>\n",
       "    <tr>\n",
       "        <td>Lisa</td>\n",
       "        <td>Berg</td>\n",
       "    </tr>\n",
       "    <tr>\n",
       "        <td>Lotta</td>\n",
       "        <td>Bergman</td>\n",
       "    </tr>\n",
       "    <tr>\n",
       "        <td>Susanne</td>\n",
       "        <td>Dahl</td>\n",
       "    </tr>\n",
       "    <tr>\n",
       "        <td>Birgit</td>\n",
       "        <td>Ewesson</td>\n",
       "    </tr>\n",
       "    <tr>\n",
       "        <td>Ulrika</td>\n",
       "        <td>Jonsson</td>\n",
       "    </tr>\n",
       "    <tr>\n",
       "        <td>Jenny</td>\n",
       "        <td>Lundin</td>\n",
       "    </tr>\n",
       "    <tr>\n",
       "        <td>Karin</td>\n",
       "        <td>Östberg</td>\n",
       "    </tr>\n",
       "    <tr>\n",
       "        <td>Bo</td>\n",
       "        <td>Ek</td>\n",
       "    </tr>\n",
       "    <tr>\n",
       "        <td>Bo</td>\n",
       "        <td>Ek</td>\n",
       "    </tr>\n",
       "    <tr>\n",
       "        <td>Bo</td>\n",
       "        <td>Ek</td>\n",
       "    </tr>\n",
       "    <tr>\n",
       "        <td>Erik</td>\n",
       "        <td>Andersson</td>\n",
       "    </tr>\n",
       "    <tr>\n",
       "        <td>Erik</td>\n",
       "        <td>Andersson</td>\n",
       "    </tr>\n",
       "    <tr>\n",
       "        <td>Filip</td>\n",
       "        <td>Gustavsson</td>\n",
       "    </tr>\n",
       "    <tr>\n",
       "        <td>Niklas</td>\n",
       "        <td>Andersson</td>\n",
       "    </tr>\n",
       "    <tr>\n",
       "        <td>David</td>\n",
       "        <td>Carlsson</td>\n",
       "    </tr>\n",
       "    <tr>\n",
       "        <td>Tobias</td>\n",
       "        <td>Enberg</td>\n",
       "    </tr>\n",
       "    <tr>\n",
       "        <td>Johan</td>\n",
       "        <td>Lind</td>\n",
       "    </tr>\n",
       "    <tr>\n",
       "        <td>Magnus</td>\n",
       "        <td>Pettersson</td>\n",
       "    </tr>\n",
       "    <tr>\n",
       "        <td>Filip</td>\n",
       "        <td>Persson</td>\n",
       "    </tr>\n",
       "    <tr>\n",
       "        <td>Ola</td>\n",
       "        <td>Nilsson</td>\n",
       "    </tr>\n",
       "    <tr>\n",
       "        <td>Jakob</td>\n",
       "        <td>Malmberg</td>\n",
       "    </tr>\n",
       "    <tr>\n",
       "        <td>Henrik</td>\n",
       "        <td>Berg</td>\n",
       "    </tr>\n",
       "    <tr>\n",
       "        <td>John</td>\n",
       "        <td>Lind</td>\n",
       "    </tr>\n",
       "    <tr>\n",
       "        <td>Patrik</td>\n",
       "        <td>Lundh</td>\n",
       "    </tr>\n",
       "    <tr>\n",
       "        <td>Mikael</td>\n",
       "        <td>Nilsson</td>\n",
       "    </tr>\n",
       "    <tr>\n",
       "        <td>Joakim</td>\n",
       "        <td>Nilsson</td>\n",
       "    </tr>\n",
       "    <tr>\n",
       "        <td>Conny</td>\n",
       "        <td>Modig</td>\n",
       "    </tr>\n",
       "    <tr>\n",
       "        <td>Christian</td>\n",
       "        <td>Wallman</td>\n",
       "    </tr>\n",
       "    <tr>\n",
       "        <td>Magnus</td>\n",
       "        <td>Strömgren</td>\n",
       "    </tr>\n",
       "    <tr>\n",
       "        <td>Daniel</td>\n",
       "        <td>Ahlman</td>\n",
       "    </tr>\n",
       "    <tr>\n",
       "        <td>Lars</td>\n",
       "        <td>Molin</td>\n",
       "    </tr>\n",
       "    <tr>\n",
       "        <td>Magnus</td>\n",
       "        <td>Nilsson</td>\n",
       "    </tr>\n",
       "    <tr>\n",
       "        <td>Anders</td>\n",
       "        <td>Olsson</td>\n",
       "    </tr>\n",
       "    <tr>\n",
       "        <td>Martin</td>\n",
       "        <td>Alm</td>\n",
       "    </tr>\n",
       "    <tr>\n",
       "        <td>Håkan</td>\n",
       "        <td>Mossgren</td>\n",
       "    </tr>\n",
       "    <tr>\n",
       "        <td>Fredrik</td>\n",
       "        <td>Ryd</td>\n",
       "    </tr>\n",
       "    <tr>\n",
       "        <td>Mats</td>\n",
       "        <td>Wikström</td>\n",
       "    </tr>\n",
       "    <tr>\n",
       "        <td>Anders</td>\n",
       "        <td>Magnusson</td>\n",
       "    </tr>\n",
       "    <tr>\n",
       "        <td>Andreas</td>\n",
       "        <td>Molin</td>\n",
       "    </tr>\n",
       "    <tr>\n",
       "        <td>Johan</td>\n",
       "        <td>Brattberg</td>\n",
       "    </tr>\n",
       "    <tr>\n",
       "        <td>Johan</td>\n",
       "        <td>Olsson</td>\n",
       "    </tr>\n",
       "    <tr>\n",
       "        <td>Jonathan</td>\n",
       "        <td>Jönsson</td>\n",
       "    </tr>\n",
       "    <tr>\n",
       "        <td>Magnus</td>\n",
       "        <td>Hultgren</td>\n",
       "    </tr>\n",
       "    <tr>\n",
       "        <td>Axel</td>\n",
       "        <td>Nord</td>\n",
       "    </tr>\n",
       "    <tr>\n",
       "        <td>Henrik</td>\n",
       "        <td>Hult</td>\n",
       "    </tr>\n",
       "    <tr>\n",
       "        <td>Joakim</td>\n",
       "        <td>Hall</td>\n",
       "    </tr>\n",
       "    <tr>\n",
       "        <td>Henrik</td>\n",
       "        <td>Gustavsson</td>\n",
       "    </tr>\n",
       "    <tr>\n",
       "        <td>Torbjörn</td>\n",
       "        <td>Modig</td>\n",
       "    </tr>\n",
       "    <tr>\n",
       "        <td>Daniel</td>\n",
       "        <td>Axelsson</td>\n",
       "    </tr>\n",
       "    <tr>\n",
       "        <td>Per-Erik</td>\n",
       "        <td>Pettersson</td>\n",
       "    </tr>\n",
       "    <tr>\n",
       "        <td>Roger</td>\n",
       "        <td>Brorsson</td>\n",
       "    </tr>\n",
       "    <tr>\n",
       "        <td>Patrik</td>\n",
       "        <td>Ohlsson</td>\n",
       "    </tr>\n",
       "    <tr>\n",
       "        <td>Peter</td>\n",
       "        <td>Solberg</td>\n",
       "    </tr>\n",
       "</table>"
      ],
      "text/plain": [
       "[('Anna', 'Johansson'),\n",
       " ('Anna', 'Johansson'),\n",
       " ('Eva', 'Alm'),\n",
       " ('Eva', 'Nilsson'),\n",
       " ('Elaine', 'Robertson'),\n",
       " ('Maria', 'Nordman'),\n",
       " ('Helena', 'Troberg'),\n",
       " ('Lotta', 'Emanuelsson'),\n",
       " ('Anna', 'Nyström'),\n",
       " ('Maria', 'Andersson'),\n",
       " ('Marie', 'Persson'),\n",
       " ('Märit', 'Aspegren'),\n",
       " ('Ylva', 'Jacobsson'),\n",
       " ('Frida', 'Weidel'),\n",
       " ('Caroline', 'Olsson'),\n",
       " ('Karolin', 'Ek'),\n",
       " ('Eva', 'Hjort'),\n",
       " ('Sofia', 'Kjellberg'),\n",
       " ('Tina', 'Lööf'),\n",
       " ('Lisa', 'Berg'),\n",
       " ('Lotta', 'Bergman'),\n",
       " ('Susanne', 'Dahl'),\n",
       " ('Birgit', 'Ewesson'),\n",
       " ('Ulrika', 'Jonsson'),\n",
       " ('Jenny', 'Lundin'),\n",
       " ('Karin', 'Östberg'),\n",
       " ('Bo', 'Ek'),\n",
       " ('Bo', 'Ek'),\n",
       " ('Bo', 'Ek'),\n",
       " ('Erik', 'Andersson'),\n",
       " ('Erik', 'Andersson'),\n",
       " ('Filip', 'Gustavsson'),\n",
       " ('Niklas', 'Andersson'),\n",
       " ('David', 'Carlsson'),\n",
       " ('Tobias', 'Enberg'),\n",
       " ('Johan', 'Lind'),\n",
       " ('Magnus', 'Pettersson'),\n",
       " ('Filip', 'Persson'),\n",
       " ('Ola', 'Nilsson'),\n",
       " ('Jakob', 'Malmberg'),\n",
       " ('Henrik', 'Berg'),\n",
       " ('John', 'Lind'),\n",
       " ('Patrik', 'Lundh'),\n",
       " ('Mikael', 'Nilsson'),\n",
       " ('Joakim', 'Nilsson'),\n",
       " ('Conny', 'Modig'),\n",
       " ('Christian', 'Wallman'),\n",
       " ('Magnus', 'Strömgren'),\n",
       " ('Daniel', 'Ahlman'),\n",
       " ('Lars', 'Molin'),\n",
       " ('Magnus', 'Nilsson'),\n",
       " ('Anders', 'Olsson'),\n",
       " ('Martin', 'Alm'),\n",
       " ('Håkan', 'Mossgren'),\n",
       " ('Fredrik', 'Ryd'),\n",
       " ('Mats', 'Wikström'),\n",
       " ('Anders', 'Magnusson'),\n",
       " ('Andreas', 'Molin'),\n",
       " ('Johan', 'Brattberg'),\n",
       " ('Johan', 'Olsson'),\n",
       " ('Jonathan', 'Jönsson'),\n",
       " ('Magnus', 'Hultgren'),\n",
       " ('Axel', 'Nord'),\n",
       " ('Henrik', 'Hult'),\n",
       " ('Joakim', 'Hall'),\n",
       " ('Henrik', 'Gustavsson'),\n",
       " ('Torbjörn', 'Modig'),\n",
       " ('Daniel', 'Axelsson'),\n",
       " ('Per-Erik', 'Pettersson'),\n",
       " ('Roger', 'Brorsson'),\n",
       " ('Patrik', 'Ohlsson'),\n",
       " ('Peter', 'Solberg')]"
      ]
     },
     "execution_count": 215,
     "metadata": {},
     "output_type": "execute_result"
    }
   ],
   "source": [
    "%%sql\n",
    "SELECT first_name, last_name \n",
    "FROM students\n",
    "\n"
   ]
  },
  {
   "cell_type": "markdown",
   "id": "c408eb4a",
   "metadata": {},
   "source": [
    "Now sort the names, first by last name and then by first name:"
   ]
  },
  {
   "cell_type": "code",
   "execution_count": 216,
   "id": "5812456c",
   "metadata": {
    "attributes": {
     "classes": [
      "clear"
     ],
     "id": ""
    }
   },
   "outputs": [
    {
     "name": "stdout",
     "output_type": "stream",
     "text": [
      " * sqlite:///lab1.sqlite\n",
      "Done.\n"
     ]
    },
    {
     "data": {
      "text/html": [
       "<table>\n",
       "    <tr>\n",
       "        <th>first_name</th>\n",
       "        <th>last_name</th>\n",
       "    </tr>\n",
       "    <tr>\n",
       "        <td>Anders</td>\n",
       "        <td>Olsson</td>\n",
       "    </tr>\n",
       "    <tr>\n",
       "        <td>Anders</td>\n",
       "        <td>Magnusson</td>\n",
       "    </tr>\n",
       "    <tr>\n",
       "        <td>Andreas</td>\n",
       "        <td>Molin</td>\n",
       "    </tr>\n",
       "    <tr>\n",
       "        <td>Anna</td>\n",
       "        <td>Johansson</td>\n",
       "    </tr>\n",
       "    <tr>\n",
       "        <td>Anna</td>\n",
       "        <td>Johansson</td>\n",
       "    </tr>\n",
       "    <tr>\n",
       "        <td>Anna</td>\n",
       "        <td>Nyström</td>\n",
       "    </tr>\n",
       "    <tr>\n",
       "        <td>Axel</td>\n",
       "        <td>Nord</td>\n",
       "    </tr>\n",
       "    <tr>\n",
       "        <td>Birgit</td>\n",
       "        <td>Ewesson</td>\n",
       "    </tr>\n",
       "    <tr>\n",
       "        <td>Bo</td>\n",
       "        <td>Ek</td>\n",
       "    </tr>\n",
       "    <tr>\n",
       "        <td>Bo</td>\n",
       "        <td>Ek</td>\n",
       "    </tr>\n",
       "    <tr>\n",
       "        <td>Bo</td>\n",
       "        <td>Ek</td>\n",
       "    </tr>\n",
       "    <tr>\n",
       "        <td>Caroline</td>\n",
       "        <td>Olsson</td>\n",
       "    </tr>\n",
       "    <tr>\n",
       "        <td>Christian</td>\n",
       "        <td>Wallman</td>\n",
       "    </tr>\n",
       "    <tr>\n",
       "        <td>Conny</td>\n",
       "        <td>Modig</td>\n",
       "    </tr>\n",
       "    <tr>\n",
       "        <td>Daniel</td>\n",
       "        <td>Ahlman</td>\n",
       "    </tr>\n",
       "    <tr>\n",
       "        <td>Daniel</td>\n",
       "        <td>Axelsson</td>\n",
       "    </tr>\n",
       "    <tr>\n",
       "        <td>David</td>\n",
       "        <td>Carlsson</td>\n",
       "    </tr>\n",
       "    <tr>\n",
       "        <td>Elaine</td>\n",
       "        <td>Robertson</td>\n",
       "    </tr>\n",
       "    <tr>\n",
       "        <td>Erik</td>\n",
       "        <td>Andersson</td>\n",
       "    </tr>\n",
       "    <tr>\n",
       "        <td>Erik</td>\n",
       "        <td>Andersson</td>\n",
       "    </tr>\n",
       "    <tr>\n",
       "        <td>Eva</td>\n",
       "        <td>Alm</td>\n",
       "    </tr>\n",
       "    <tr>\n",
       "        <td>Eva</td>\n",
       "        <td>Nilsson</td>\n",
       "    </tr>\n",
       "    <tr>\n",
       "        <td>Eva</td>\n",
       "        <td>Hjort</td>\n",
       "    </tr>\n",
       "    <tr>\n",
       "        <td>Filip</td>\n",
       "        <td>Gustavsson</td>\n",
       "    </tr>\n",
       "    <tr>\n",
       "        <td>Filip</td>\n",
       "        <td>Persson</td>\n",
       "    </tr>\n",
       "    <tr>\n",
       "        <td>Fredrik</td>\n",
       "        <td>Ryd</td>\n",
       "    </tr>\n",
       "    <tr>\n",
       "        <td>Frida</td>\n",
       "        <td>Weidel</td>\n",
       "    </tr>\n",
       "    <tr>\n",
       "        <td>Helena</td>\n",
       "        <td>Troberg</td>\n",
       "    </tr>\n",
       "    <tr>\n",
       "        <td>Henrik</td>\n",
       "        <td>Berg</td>\n",
       "    </tr>\n",
       "    <tr>\n",
       "        <td>Henrik</td>\n",
       "        <td>Hult</td>\n",
       "    </tr>\n",
       "    <tr>\n",
       "        <td>Henrik</td>\n",
       "        <td>Gustavsson</td>\n",
       "    </tr>\n",
       "    <tr>\n",
       "        <td>Håkan</td>\n",
       "        <td>Mossgren</td>\n",
       "    </tr>\n",
       "    <tr>\n",
       "        <td>Jakob</td>\n",
       "        <td>Malmberg</td>\n",
       "    </tr>\n",
       "    <tr>\n",
       "        <td>Jenny</td>\n",
       "        <td>Lundin</td>\n",
       "    </tr>\n",
       "    <tr>\n",
       "        <td>Joakim</td>\n",
       "        <td>Nilsson</td>\n",
       "    </tr>\n",
       "    <tr>\n",
       "        <td>Joakim</td>\n",
       "        <td>Hall</td>\n",
       "    </tr>\n",
       "    <tr>\n",
       "        <td>Johan</td>\n",
       "        <td>Lind</td>\n",
       "    </tr>\n",
       "    <tr>\n",
       "        <td>Johan</td>\n",
       "        <td>Brattberg</td>\n",
       "    </tr>\n",
       "    <tr>\n",
       "        <td>Johan</td>\n",
       "        <td>Olsson</td>\n",
       "    </tr>\n",
       "    <tr>\n",
       "        <td>John</td>\n",
       "        <td>Lind</td>\n",
       "    </tr>\n",
       "    <tr>\n",
       "        <td>Jonathan</td>\n",
       "        <td>Jönsson</td>\n",
       "    </tr>\n",
       "    <tr>\n",
       "        <td>Karin</td>\n",
       "        <td>Östberg</td>\n",
       "    </tr>\n",
       "    <tr>\n",
       "        <td>Karolin</td>\n",
       "        <td>Ek</td>\n",
       "    </tr>\n",
       "    <tr>\n",
       "        <td>Lars</td>\n",
       "        <td>Molin</td>\n",
       "    </tr>\n",
       "    <tr>\n",
       "        <td>Lisa</td>\n",
       "        <td>Berg</td>\n",
       "    </tr>\n",
       "    <tr>\n",
       "        <td>Lotta</td>\n",
       "        <td>Emanuelsson</td>\n",
       "    </tr>\n",
       "    <tr>\n",
       "        <td>Lotta</td>\n",
       "        <td>Bergman</td>\n",
       "    </tr>\n",
       "    <tr>\n",
       "        <td>Magnus</td>\n",
       "        <td>Pettersson</td>\n",
       "    </tr>\n",
       "    <tr>\n",
       "        <td>Magnus</td>\n",
       "        <td>Strömgren</td>\n",
       "    </tr>\n",
       "    <tr>\n",
       "        <td>Magnus</td>\n",
       "        <td>Nilsson</td>\n",
       "    </tr>\n",
       "    <tr>\n",
       "        <td>Magnus</td>\n",
       "        <td>Hultgren</td>\n",
       "    </tr>\n",
       "    <tr>\n",
       "        <td>Maria</td>\n",
       "        <td>Nordman</td>\n",
       "    </tr>\n",
       "    <tr>\n",
       "        <td>Maria</td>\n",
       "        <td>Andersson</td>\n",
       "    </tr>\n",
       "    <tr>\n",
       "        <td>Marie</td>\n",
       "        <td>Persson</td>\n",
       "    </tr>\n",
       "    <tr>\n",
       "        <td>Martin</td>\n",
       "        <td>Alm</td>\n",
       "    </tr>\n",
       "    <tr>\n",
       "        <td>Mats</td>\n",
       "        <td>Wikström</td>\n",
       "    </tr>\n",
       "    <tr>\n",
       "        <td>Mikael</td>\n",
       "        <td>Nilsson</td>\n",
       "    </tr>\n",
       "    <tr>\n",
       "        <td>Märit</td>\n",
       "        <td>Aspegren</td>\n",
       "    </tr>\n",
       "    <tr>\n",
       "        <td>Niklas</td>\n",
       "        <td>Andersson</td>\n",
       "    </tr>\n",
       "    <tr>\n",
       "        <td>Ola</td>\n",
       "        <td>Nilsson</td>\n",
       "    </tr>\n",
       "    <tr>\n",
       "        <td>Patrik</td>\n",
       "        <td>Lundh</td>\n",
       "    </tr>\n",
       "    <tr>\n",
       "        <td>Patrik</td>\n",
       "        <td>Ohlsson</td>\n",
       "    </tr>\n",
       "    <tr>\n",
       "        <td>Per-Erik</td>\n",
       "        <td>Pettersson</td>\n",
       "    </tr>\n",
       "    <tr>\n",
       "        <td>Peter</td>\n",
       "        <td>Solberg</td>\n",
       "    </tr>\n",
       "    <tr>\n",
       "        <td>Roger</td>\n",
       "        <td>Brorsson</td>\n",
       "    </tr>\n",
       "    <tr>\n",
       "        <td>Sofia</td>\n",
       "        <td>Kjellberg</td>\n",
       "    </tr>\n",
       "    <tr>\n",
       "        <td>Susanne</td>\n",
       "        <td>Dahl</td>\n",
       "    </tr>\n",
       "    <tr>\n",
       "        <td>Tina</td>\n",
       "        <td>Lööf</td>\n",
       "    </tr>\n",
       "    <tr>\n",
       "        <td>Tobias</td>\n",
       "        <td>Enberg</td>\n",
       "    </tr>\n",
       "    <tr>\n",
       "        <td>Torbjörn</td>\n",
       "        <td>Modig</td>\n",
       "    </tr>\n",
       "    <tr>\n",
       "        <td>Ulrika</td>\n",
       "        <td>Jonsson</td>\n",
       "    </tr>\n",
       "    <tr>\n",
       "        <td>Ylva</td>\n",
       "        <td>Jacobsson</td>\n",
       "    </tr>\n",
       "</table>"
      ],
      "text/plain": [
       "[('Anders', 'Olsson'),\n",
       " ('Anders', 'Magnusson'),\n",
       " ('Andreas', 'Molin'),\n",
       " ('Anna', 'Johansson'),\n",
       " ('Anna', 'Johansson'),\n",
       " ('Anna', 'Nyström'),\n",
       " ('Axel', 'Nord'),\n",
       " ('Birgit', 'Ewesson'),\n",
       " ('Bo', 'Ek'),\n",
       " ('Bo', 'Ek'),\n",
       " ('Bo', 'Ek'),\n",
       " ('Caroline', 'Olsson'),\n",
       " ('Christian', 'Wallman'),\n",
       " ('Conny', 'Modig'),\n",
       " ('Daniel', 'Ahlman'),\n",
       " ('Daniel', 'Axelsson'),\n",
       " ('David', 'Carlsson'),\n",
       " ('Elaine', 'Robertson'),\n",
       " ('Erik', 'Andersson'),\n",
       " ('Erik', 'Andersson'),\n",
       " ('Eva', 'Alm'),\n",
       " ('Eva', 'Nilsson'),\n",
       " ('Eva', 'Hjort'),\n",
       " ('Filip', 'Gustavsson'),\n",
       " ('Filip', 'Persson'),\n",
       " ('Fredrik', 'Ryd'),\n",
       " ('Frida', 'Weidel'),\n",
       " ('Helena', 'Troberg'),\n",
       " ('Henrik', 'Berg'),\n",
       " ('Henrik', 'Hult'),\n",
       " ('Henrik', 'Gustavsson'),\n",
       " ('Håkan', 'Mossgren'),\n",
       " ('Jakob', 'Malmberg'),\n",
       " ('Jenny', 'Lundin'),\n",
       " ('Joakim', 'Nilsson'),\n",
       " ('Joakim', 'Hall'),\n",
       " ('Johan', 'Lind'),\n",
       " ('Johan', 'Brattberg'),\n",
       " ('Johan', 'Olsson'),\n",
       " ('John', 'Lind'),\n",
       " ('Jonathan', 'Jönsson'),\n",
       " ('Karin', 'Östberg'),\n",
       " ('Karolin', 'Ek'),\n",
       " ('Lars', 'Molin'),\n",
       " ('Lisa', 'Berg'),\n",
       " ('Lotta', 'Emanuelsson'),\n",
       " ('Lotta', 'Bergman'),\n",
       " ('Magnus', 'Pettersson'),\n",
       " ('Magnus', 'Strömgren'),\n",
       " ('Magnus', 'Nilsson'),\n",
       " ('Magnus', 'Hultgren'),\n",
       " ('Maria', 'Nordman'),\n",
       " ('Maria', 'Andersson'),\n",
       " ('Marie', 'Persson'),\n",
       " ('Martin', 'Alm'),\n",
       " ('Mats', 'Wikström'),\n",
       " ('Mikael', 'Nilsson'),\n",
       " ('Märit', 'Aspegren'),\n",
       " ('Niklas', 'Andersson'),\n",
       " ('Ola', 'Nilsson'),\n",
       " ('Patrik', 'Lundh'),\n",
       " ('Patrik', 'Ohlsson'),\n",
       " ('Per-Erik', 'Pettersson'),\n",
       " ('Peter', 'Solberg'),\n",
       " ('Roger', 'Brorsson'),\n",
       " ('Sofia', 'Kjellberg'),\n",
       " ('Susanne', 'Dahl'),\n",
       " ('Tina', 'Lööf'),\n",
       " ('Tobias', 'Enberg'),\n",
       " ('Torbjörn', 'Modig'),\n",
       " ('Ulrika', 'Jonsson'),\n",
       " ('Ylva', 'Jacobsson')]"
      ]
     },
     "execution_count": 216,
     "metadata": {},
     "output_type": "execute_result"
    }
   ],
   "source": [
    "%%sql\n",
    "SELECT first_name, last_name\n",
    "FROM students\n",
    "ORDER BY first_name"
   ]
  },
  {
   "cell_type": "markdown",
   "id": "29c7ee70",
   "metadata": {},
   "source": [
    "When you get it to work, experiment by listing only the 10 first students (alphabetically), then try to list only students 11-20, etc.:"
   ]
  },
  {
   "cell_type": "code",
   "execution_count": 217,
   "id": "0aa202a1",
   "metadata": {
    "attributes": {
     "classes": [
      "clear"
     ],
     "id": ""
    }
   },
   "outputs": [
    {
     "name": "stdout",
     "output_type": "stream",
     "text": [
      " * sqlite:///lab1.sqlite\n",
      "Done.\n"
     ]
    },
    {
     "data": {
      "text/html": [
       "<table>\n",
       "    <tr>\n",
       "        <th>first_name</th>\n",
       "        <th>last_name</th>\n",
       "    </tr>\n",
       "    <tr>\n",
       "        <td>Anders</td>\n",
       "        <td>Olsson</td>\n",
       "    </tr>\n",
       "    <tr>\n",
       "        <td>Anders</td>\n",
       "        <td>Magnusson</td>\n",
       "    </tr>\n",
       "    <tr>\n",
       "        <td>Andreas</td>\n",
       "        <td>Molin</td>\n",
       "    </tr>\n",
       "    <tr>\n",
       "        <td>Anna</td>\n",
       "        <td>Johansson</td>\n",
       "    </tr>\n",
       "    <tr>\n",
       "        <td>Anna</td>\n",
       "        <td>Johansson</td>\n",
       "    </tr>\n",
       "    <tr>\n",
       "        <td>Anna</td>\n",
       "        <td>Nyström</td>\n",
       "    </tr>\n",
       "    <tr>\n",
       "        <td>Axel</td>\n",
       "        <td>Nord</td>\n",
       "    </tr>\n",
       "    <tr>\n",
       "        <td>Birgit</td>\n",
       "        <td>Ewesson</td>\n",
       "    </tr>\n",
       "    <tr>\n",
       "        <td>Bo</td>\n",
       "        <td>Ek</td>\n",
       "    </tr>\n",
       "    <tr>\n",
       "        <td>Bo</td>\n",
       "        <td>Ek</td>\n",
       "    </tr>\n",
       "</table>"
      ],
      "text/plain": [
       "[('Anders', 'Olsson'),\n",
       " ('Anders', 'Magnusson'),\n",
       " ('Andreas', 'Molin'),\n",
       " ('Anna', 'Johansson'),\n",
       " ('Anna', 'Johansson'),\n",
       " ('Anna', 'Nyström'),\n",
       " ('Axel', 'Nord'),\n",
       " ('Birgit', 'Ewesson'),\n",
       " ('Bo', 'Ek'),\n",
       " ('Bo', 'Ek')]"
      ]
     },
     "execution_count": 217,
     "metadata": {},
     "output_type": "execute_result"
    }
   ],
   "source": [
    "%%sql\n",
    "\n",
    "SELECT first_name, last_name\n",
    "FROM students\n",
    "ORDER BY first_name\n",
    "LIMIT 10\n",
    "\n"
   ]
  },
  {
   "cell_type": "markdown",
   "id": "b591b9b9",
   "metadata": {},
   "source": [
    "<a id='problem_2'></a>\n",
    "\n",
    "## Problem 2 (practice)\n",
    "\n",
    "What are the names of the students who were born in 1985?"
   ]
  },
  {
   "cell_type": "code",
   "execution_count": 218,
   "id": "68ae4a32",
   "metadata": {
    "attributes": {
     "classes": [
      "clear"
     ],
     "id": ""
    }
   },
   "outputs": [
    {
     "name": "stdout",
     "output_type": "stream",
     "text": [
      " * sqlite:///lab1.sqlite\n",
      "Done.\n"
     ]
    },
    {
     "data": {
      "text/html": [
       "<table>\n",
       "    <tr>\n",
       "        <th>first_name</th>\n",
       "        <th>last_name</th>\n",
       "        <th>ssn</th>\n",
       "    </tr>\n",
       "    <tr>\n",
       "        <td>Anna</td>\n",
       "        <td>Johansson</td>\n",
       "        <td>930702-3582</td>\n",
       "    </tr>\n",
       "    <tr>\n",
       "        <td>Marie</td>\n",
       "        <td>Persson</td>\n",
       "        <td>870915-2742</td>\n",
       "    </tr>\n",
       "    <tr>\n",
       "        <td>Ulrika</td>\n",
       "        <td>Jonsson</td>\n",
       "        <td>850706-2762</td>\n",
       "    </tr>\n",
       "    <tr>\n",
       "        <td>Christian</td>\n",
       "        <td>Wallman</td>\n",
       "        <td>881030-2772</td>\n",
       "    </tr>\n",
       "    <tr>\n",
       "        <td>Torbjörn</td>\n",
       "        <td>Modig</td>\n",
       "        <td>881110-1272</td>\n",
       "    </tr>\n",
       "</table>"
      ],
      "text/plain": [
       "[('Anna', 'Johansson', '930702-3582'),\n",
       " ('Marie', 'Persson', '870915-2742'),\n",
       " ('Ulrika', 'Jonsson', '850706-2762'),\n",
       " ('Christian', 'Wallman', '881030-2772'),\n",
       " ('Torbjörn', 'Modig', '881110-1272')]"
      ]
     },
     "execution_count": 218,
     "metadata": {},
     "output_type": "execute_result"
    }
   ],
   "source": [
    "%%sql\n",
    "\n",
    "SELECT first_name, last_name, ssn\n",
    "FROM students\n",
    "WHERE substr(ssn,11,1)='2'\n",
    "\n"
   ]
  },
  {
   "cell_type": "markdown",
   "id": "878aa427",
   "metadata": {},
   "source": [
    "Hint: the `substr` function can be useful (it also goes by the name `substring`).\n",
    "\n",
    "\n",
    "<a id='problem_3'></a>\n",
    "\n",
    "## Problem 3 (practice)\n",
    "\n",
    "The penultimate digit in the social security number is even for females, and odd for males.\n",
    "List the first names of all female students in our database alphabetically."
   ]
  },
  {
   "cell_type": "code",
   "execution_count": 219,
   "id": "8191d501",
   "metadata": {
    "attributes": {
     "classes": [
      "clear"
     ],
     "id": ""
    }
   },
   "outputs": [
    {
     "name": "stdout",
     "output_type": "stream",
     "text": [
      " * sqlite:///lab1.sqlite\n",
      "Done.\n"
     ]
    },
    {
     "data": {
      "text/html": [
       "<table>\n",
       "    <tr>\n",
       "        <th>first_name</th>\n",
       "    </tr>\n",
       "    <tr>\n",
       "        <td>Anna</td>\n",
       "    </tr>\n",
       "    <tr>\n",
       "        <td>Anna</td>\n",
       "    </tr>\n",
       "    <tr>\n",
       "        <td>Anna</td>\n",
       "    </tr>\n",
       "    <tr>\n",
       "        <td>Birgit</td>\n",
       "    </tr>\n",
       "    <tr>\n",
       "        <td>Caroline</td>\n",
       "    </tr>\n",
       "    <tr>\n",
       "        <td>Elaine</td>\n",
       "    </tr>\n",
       "    <tr>\n",
       "        <td>Eva</td>\n",
       "    </tr>\n",
       "    <tr>\n",
       "        <td>Eva</td>\n",
       "    </tr>\n",
       "    <tr>\n",
       "        <td>Eva</td>\n",
       "    </tr>\n",
       "    <tr>\n",
       "        <td>Frida</td>\n",
       "    </tr>\n",
       "    <tr>\n",
       "        <td>Helena</td>\n",
       "    </tr>\n",
       "    <tr>\n",
       "        <td>Jenny</td>\n",
       "    </tr>\n",
       "    <tr>\n",
       "        <td>Karin</td>\n",
       "    </tr>\n",
       "    <tr>\n",
       "        <td>Karolin</td>\n",
       "    </tr>\n",
       "    <tr>\n",
       "        <td>Lisa</td>\n",
       "    </tr>\n",
       "    <tr>\n",
       "        <td>Lotta</td>\n",
       "    </tr>\n",
       "    <tr>\n",
       "        <td>Lotta</td>\n",
       "    </tr>\n",
       "    <tr>\n",
       "        <td>Maria</td>\n",
       "    </tr>\n",
       "    <tr>\n",
       "        <td>Maria</td>\n",
       "    </tr>\n",
       "    <tr>\n",
       "        <td>Marie</td>\n",
       "    </tr>\n",
       "    <tr>\n",
       "        <td>Märit</td>\n",
       "    </tr>\n",
       "    <tr>\n",
       "        <td>Sofia</td>\n",
       "    </tr>\n",
       "    <tr>\n",
       "        <td>Susanne</td>\n",
       "    </tr>\n",
       "    <tr>\n",
       "        <td>Tina</td>\n",
       "    </tr>\n",
       "    <tr>\n",
       "        <td>Ulrika</td>\n",
       "    </tr>\n",
       "    <tr>\n",
       "        <td>Ylva</td>\n",
       "    </tr>\n",
       "</table>"
      ],
      "text/plain": [
       "[('Anna',),\n",
       " ('Anna',),\n",
       " ('Anna',),\n",
       " ('Birgit',),\n",
       " ('Caroline',),\n",
       " ('Elaine',),\n",
       " ('Eva',),\n",
       " ('Eva',),\n",
       " ('Eva',),\n",
       " ('Frida',),\n",
       " ('Helena',),\n",
       " ('Jenny',),\n",
       " ('Karin',),\n",
       " ('Karolin',),\n",
       " ('Lisa',),\n",
       " ('Lotta',),\n",
       " ('Lotta',),\n",
       " ('Maria',),\n",
       " ('Maria',),\n",
       " ('Marie',),\n",
       " ('Märit',),\n",
       " ('Sofia',),\n",
       " ('Susanne',),\n",
       " ('Tina',),\n",
       " ('Ulrika',),\n",
       " ('Ylva',)]"
      ]
     },
     "execution_count": 219,
     "metadata": {},
     "output_type": "execute_result"
    }
   ],
   "source": [
    "%%sql\n",
    "SELECT first_name\n",
    "FROM students\n",
    "WHERE CAST(substr(ssn,10,1) AS int) % 2 = 0\n",
    "ORDER BY first_name"
   ]
  },
  {
   "cell_type": "markdown",
   "id": "f6268349",
   "metadata": {},
   "source": [
    "Now try to output each name only once (so, no duplicates)."
   ]
  },
  {
   "cell_type": "code",
   "execution_count": 220,
   "id": "2fced45c",
   "metadata": {
    "attributes": {
     "classes": [
      "clear"
     ],
     "id": ""
    }
   },
   "outputs": [
    {
     "name": "stdout",
     "output_type": "stream",
     "text": [
      " * sqlite:///lab1.sqlite\n",
      "Done.\n"
     ]
    },
    {
     "data": {
      "text/html": [
       "<table>\n",
       "    <tr>\n",
       "        <th>first_name</th>\n",
       "    </tr>\n",
       "    <tr>\n",
       "        <td>Anna</td>\n",
       "    </tr>\n",
       "    <tr>\n",
       "        <td>Birgit</td>\n",
       "    </tr>\n",
       "    <tr>\n",
       "        <td>Caroline</td>\n",
       "    </tr>\n",
       "    <tr>\n",
       "        <td>Elaine</td>\n",
       "    </tr>\n",
       "    <tr>\n",
       "        <td>Eva</td>\n",
       "    </tr>\n",
       "    <tr>\n",
       "        <td>Frida</td>\n",
       "    </tr>\n",
       "    <tr>\n",
       "        <td>Helena</td>\n",
       "    </tr>\n",
       "    <tr>\n",
       "        <td>Jenny</td>\n",
       "    </tr>\n",
       "    <tr>\n",
       "        <td>Karin</td>\n",
       "    </tr>\n",
       "    <tr>\n",
       "        <td>Karolin</td>\n",
       "    </tr>\n",
       "    <tr>\n",
       "        <td>Lisa</td>\n",
       "    </tr>\n",
       "    <tr>\n",
       "        <td>Lotta</td>\n",
       "    </tr>\n",
       "    <tr>\n",
       "        <td>Maria</td>\n",
       "    </tr>\n",
       "    <tr>\n",
       "        <td>Marie</td>\n",
       "    </tr>\n",
       "    <tr>\n",
       "        <td>Märit</td>\n",
       "    </tr>\n",
       "    <tr>\n",
       "        <td>Sofia</td>\n",
       "    </tr>\n",
       "    <tr>\n",
       "        <td>Susanne</td>\n",
       "    </tr>\n",
       "    <tr>\n",
       "        <td>Tina</td>\n",
       "    </tr>\n",
       "    <tr>\n",
       "        <td>Ulrika</td>\n",
       "    </tr>\n",
       "    <tr>\n",
       "        <td>Ylva</td>\n",
       "    </tr>\n",
       "</table>"
      ],
      "text/plain": [
       "[('Anna',),\n",
       " ('Birgit',),\n",
       " ('Caroline',),\n",
       " ('Elaine',),\n",
       " ('Eva',),\n",
       " ('Frida',),\n",
       " ('Helena',),\n",
       " ('Jenny',),\n",
       " ('Karin',),\n",
       " ('Karolin',),\n",
       " ('Lisa',),\n",
       " ('Lotta',),\n",
       " ('Maria',),\n",
       " ('Marie',),\n",
       " ('Märit',),\n",
       " ('Sofia',),\n",
       " ('Susanne',),\n",
       " ('Tina',),\n",
       " ('Ulrika',),\n",
       " ('Ylva',)]"
      ]
     },
     "execution_count": 220,
     "metadata": {},
     "output_type": "execute_result"
    }
   ],
   "source": [
    "%%sql\n",
    "\n",
    "SELECT DISTINCT first_name\n",
    "FROM students\n",
    "WHERE CAST(substr(ssn,10,1) AS int) % 2 = 0\n",
    "ORDER BY first_name\n"
   ]
  },
  {
   "cell_type": "markdown",
   "id": "f436b716",
   "metadata": {},
   "source": [
    "<a id='problem_4'></a>\n",
    "\n",
    "## Problem 4 (practice)\n",
    "\n",
    "How many students are registered in the database?"
   ]
  },
  {
   "cell_type": "code",
   "execution_count": 221,
   "id": "cf7af790",
   "metadata": {
    "attributes": {
     "classes": [
      "clear"
     ],
     "id": ""
    }
   },
   "outputs": [
    {
     "name": "stdout",
     "output_type": "stream",
     "text": [
      " * sqlite:///lab1.sqlite\n",
      "Done.\n"
     ]
    },
    {
     "data": {
      "text/html": [
       "<table>\n",
       "    <tr>\n",
       "        <th>count()</th>\n",
       "    </tr>\n",
       "    <tr>\n",
       "        <td>72</td>\n",
       "    </tr>\n",
       "</table>"
      ],
      "text/plain": [
       "[(72,)]"
      ]
     },
     "execution_count": 221,
     "metadata": {},
     "output_type": "execute_result"
    }
   ],
   "source": [
    "%%sql\n",
    "SELECT count() FROM students"
   ]
  },
  {
   "cell_type": "markdown",
   "id": "01169d61",
   "metadata": {},
   "source": [
    "How many male students are there?"
   ]
  },
  {
   "cell_type": "code",
   "execution_count": 222,
   "id": "4b683c32",
   "metadata": {
    "attributes": {
     "classes": [
      "clear"
     ],
     "id": ""
    }
   },
   "outputs": [
    {
     "name": "stdout",
     "output_type": "stream",
     "text": [
      " * sqlite:///lab1.sqlite\n",
      "Done.\n"
     ]
    },
    {
     "data": {
      "text/html": [
       "<table>\n",
       "    <tr>\n",
       "        <th>count()</th>\n",
       "    </tr>\n",
       "    <tr>\n",
       "        <td>46</td>\n",
       "    </tr>\n",
       "</table>"
      ],
      "text/plain": [
       "[(46,)]"
      ]
     },
     "execution_count": 222,
     "metadata": {},
     "output_type": "execute_result"
    }
   ],
   "source": [
    "%%sql\n",
    "\n",
    "SELECT count()\n",
    "FROM students\n",
    "WHERE CAST(substr(ssn,10,1) AS int) % 2 = 1\n",
    "\n"
   ]
  },
  {
   "cell_type": "markdown",
   "id": "6709cc20",
   "metadata": {},
   "source": [
    "Now try to output the number of distinct names in the listing of female students above, using `count`.\n",
    "It turns out that this is a bit tricky, we need to make sure we use the word `DISTINCT` in the right place (look carefully in the [documentation](https://sqlite.org/lang_aggfunc.html))."
   ]
  },
  {
   "cell_type": "code",
   "execution_count": 223,
   "id": "4e313e1e",
   "metadata": {
    "attributes": {
     "classes": [
      "clear"
     ],
     "id": ""
    }
   },
   "outputs": [
    {
     "name": "stdout",
     "output_type": "stream",
     "text": [
      " * sqlite:///lab1.sqlite\n",
      "Done.\n"
     ]
    },
    {
     "data": {
      "text/html": [
       "<table>\n",
       "    <tr>\n",
       "        <th>count(DISTINCT first_name)</th>\n",
       "    </tr>\n",
       "    <tr>\n",
       "        <td>20</td>\n",
       "    </tr>\n",
       "</table>"
      ],
      "text/plain": [
       "[(20,)]"
      ]
     },
     "execution_count": 223,
     "metadata": {},
     "output_type": "execute_result"
    }
   ],
   "source": [
    "%%sql\n",
    "\n",
    "SELECT count(DISTINCT first_name) \n",
    "FROM students\n",
    "WHERE CAST(substr(ssn,10,1) AS int) % 2 = 0"
   ]
  },
  {
   "cell_type": "markdown",
   "id": "30e3df12",
   "metadata": {},
   "source": [
    "<a id='problem_5'></a>\n",
    "\n",
    "## Problem 5 -- REVIEW\n",
    "\n",
    "How many courses are there for each level (`G1`, `G2`, and `A`)?"
   ]
  },
  {
   "cell_type": "code",
   "execution_count": 242,
   "id": "431bfff1",
   "metadata": {},
   "outputs": [
    {
     "name": "stdout",
     "output_type": "stream",
     "text": [
      " * sqlite:///lab1.sqlite\n",
      "Done.\n"
     ]
    },
    {
     "data": {
      "text/html": [
       "<table>\n",
       "    <tr>\n",
       "        <th>courses_total</th>\n",
       "    </tr>\n",
       "    <tr>\n",
       "        <td>178</td>\n",
       "    </tr>\n",
       "</table>"
      ],
      "text/plain": [
       "[(178,)]"
      ]
     },
     "execution_count": 242,
     "metadata": {},
     "output_type": "execute_result"
    }
   ],
   "source": [
    "%%sql\n",
    "SELECT count() AS courses_total\n",
    "FROM courses"
   ]
  },
  {
   "cell_type": "code",
   "execution_count": 243,
   "id": "895d03ec",
   "metadata": {
    "attributes": {
     "classes": [
      "clear"
     ],
     "id": ""
    }
   },
   "outputs": [
    {
     "name": "stdout",
     "output_type": "stream",
     "text": [
      " * sqlite:///lab1.sqlite\n",
      "Done.\n"
     ]
    },
    {
     "data": {
      "text/html": [
       "<table>\n",
       "    <tr>\n",
       "        <th>level</th>\n",
       "        <th>course_count</th>\n",
       "    </tr>\n",
       "    <tr>\n",
       "        <td>A</td>\n",
       "        <td>87</td>\n",
       "    </tr>\n",
       "    <tr>\n",
       "        <td>G1</td>\n",
       "        <td>31</td>\n",
       "    </tr>\n",
       "    <tr>\n",
       "        <td>G2</td>\n",
       "        <td>60</td>\n",
       "    </tr>\n",
       "</table>"
      ],
      "text/plain": [
       "[('A', 87), ('G1', 31), ('G2', 60)]"
      ]
     },
     "execution_count": 243,
     "metadata": {},
     "output_type": "execute_result"
    }
   ],
   "source": [
    "%%sql\n",
    "\n",
    "SELECT level, count() AS course_count\n",
    "FROM courses\n",
    "GROUP by level\n"
   ]
  },
  {
   "cell_type": "markdown",
   "id": "70eef6a5",
   "metadata": {},
   "source": [
    "For each level, how many courses give more than 7.5 HP?"
   ]
  },
  {
   "cell_type": "code",
   "execution_count": 245,
   "id": "ee41f6d9",
   "metadata": {
    "attributes": {
     "classes": [
      "clear"
     ],
     "id": ""
    }
   },
   "outputs": [
    {
     "name": "stdout",
     "output_type": "stream",
     "text": [
      " * sqlite:///lab1.sqlite\n",
      "Done.\n"
     ]
    },
    {
     "data": {
      "text/html": [
       "<table>\n",
       "    <tr>\n",
       "        <th>level</th>\n",
       "        <th>count()</th>\n",
       "    </tr>\n",
       "    <tr>\n",
       "        <td>A</td>\n",
       "        <td>3</td>\n",
       "    </tr>\n",
       "    <tr>\n",
       "        <td>G1</td>\n",
       "        <td>6</td>\n",
       "    </tr>\n",
       "    <tr>\n",
       "        <td>G2</td>\n",
       "        <td>7</td>\n",
       "    </tr>\n",
       "</table>"
      ],
      "text/plain": [
       "[('A', 3), ('G1', 6), ('G2', 7)]"
      ]
     },
     "execution_count": 245,
     "metadata": {},
     "output_type": "execute_result"
    }
   ],
   "source": [
    "%%sql\n",
    "SELECT level,count() \n",
    "FROM courses\n",
    "where credits > 7.5\n",
    "GROUP by level"
   ]
  },
  {
   "cell_type": "markdown",
   "id": "b5a9c133",
   "metadata": {},
   "source": [
    "Jump to [next REVIEW problem](#problem_7)\n",
    "\n",
    "<a id='problem_6'></a>\n",
    "\n",
    "## Problem 6 (practice)\n",
    "\n",
    "In the next few queries, we'll look at the results of the student with the social security number 910101-1234 -- to make things _a lot_ easier, start by creating a `VIEW` with all his results."
   ]
  },
  {
   "cell_type": "code",
   "execution_count": 250,
   "id": "1bc219a5",
   "metadata": {
    "attributes": {
     "classes": [
      "clear"
     ],
     "id": ""
    }
   },
   "outputs": [
    {
     "name": "stdout",
     "output_type": "stream",
     "text": [
      " * sqlite:///lab1.sqlite\n",
      "Done.\n",
      "Done.\n"
     ]
    },
    {
     "data": {
      "text/plain": [
       "[]"
      ]
     },
     "execution_count": 250,
     "metadata": {},
     "output_type": "execute_result"
    }
   ],
   "source": [
    "%%sql\n",
    "DROP VIEW IF EXISTS student_results;\n",
    "CREATE VIEW student_results AS\n",
    "    SELECT    *\n",
    "    FROM      taken_courses\n",
    "    WHERE     ssn = '910101-1234'"
   ]
  },
  {
   "cell_type": "markdown",
   "id": "1c9c38f9",
   "metadata": {},
   "source": [
    "Make sure the view contains all data pertinent to the student in question (it will make the following queries very simple).\n",
    "\n",
    "Which courses (course codes only) have been taken by the student?"
   ]
  },
  {
   "cell_type": "code",
   "execution_count": 251,
   "id": "40a62f94",
   "metadata": {
    "attributes": {
     "classes": [
      "clear"
     ],
     "id": ""
    }
   },
   "outputs": [
    {
     "name": "stdout",
     "output_type": "stream",
     "text": [
      " * sqlite:///lab1.sqlite\n",
      "Done.\n"
     ]
    },
    {
     "data": {
      "text/html": [
       "<table>\n",
       "    <tr>\n",
       "        <th>course_code</th>\n",
       "    </tr>\n",
       "    <tr>\n",
       "        <td>EDA070</td>\n",
       "    </tr>\n",
       "    <tr>\n",
       "        <td>EDA385</td>\n",
       "    </tr>\n",
       "    <tr>\n",
       "        <td>EDAA25</td>\n",
       "    </tr>\n",
       "    <tr>\n",
       "        <td>EDAF05</td>\n",
       "    </tr>\n",
       "    <tr>\n",
       "        <td>EEMN10</td>\n",
       "    </tr>\n",
       "    <tr>\n",
       "        <td>EIT020</td>\n",
       "    </tr>\n",
       "    <tr>\n",
       "        <td>EIT060</td>\n",
       "    </tr>\n",
       "    <tr>\n",
       "        <td>EITF40</td>\n",
       "    </tr>\n",
       "    <tr>\n",
       "        <td>EITN40</td>\n",
       "    </tr>\n",
       "    <tr>\n",
       "        <td>EITN50</td>\n",
       "    </tr>\n",
       "    <tr>\n",
       "        <td>ESS050</td>\n",
       "    </tr>\n",
       "    <tr>\n",
       "        <td>ETIF10</td>\n",
       "    </tr>\n",
       "    <tr>\n",
       "        <td>ETIF15</td>\n",
       "    </tr>\n",
       "    <tr>\n",
       "        <td>ETIN35</td>\n",
       "    </tr>\n",
       "    <tr>\n",
       "        <td>ETS052</td>\n",
       "    </tr>\n",
       "    <tr>\n",
       "        <td>ETS075</td>\n",
       "    </tr>\n",
       "    <tr>\n",
       "        <td>ETS200</td>\n",
       "    </tr>\n",
       "    <tr>\n",
       "        <td>ETSA01</td>\n",
       "    </tr>\n",
       "    <tr>\n",
       "        <td>EXTA10</td>\n",
       "    </tr>\n",
       "    <tr>\n",
       "        <td>EXTA35</td>\n",
       "    </tr>\n",
       "    <tr>\n",
       "        <td>FAFF20</td>\n",
       "    </tr>\n",
       "    <tr>\n",
       "        <td>FAFF25</td>\n",
       "    </tr>\n",
       "    <tr>\n",
       "        <td>FMA145</td>\n",
       "    </tr>\n",
       "    <tr>\n",
       "        <td>FMA420</td>\n",
       "    </tr>\n",
       "    <tr>\n",
       "        <td>FMAA01</td>\n",
       "    </tr>\n",
       "    <tr>\n",
       "        <td>FMAF05</td>\n",
       "    </tr>\n",
       "    <tr>\n",
       "        <td>FMS012</td>\n",
       "    </tr>\n",
       "    <tr>\n",
       "        <td>FMSF15</td>\n",
       "    </tr>\n",
       "    <tr>\n",
       "        <td>FMSN30</td>\n",
       "    </tr>\n",
       "    <tr>\n",
       "        <td>FMSN35</td>\n",
       "    </tr>\n",
       "    <tr>\n",
       "        <td>FRTN10</td>\n",
       "    </tr>\n",
       "    <tr>\n",
       "        <td>GEMA45</td>\n",
       "    </tr>\n",
       "    <tr>\n",
       "        <td>GEMA70</td>\n",
       "    </tr>\n",
       "    <tr>\n",
       "        <td>MAMF15</td>\n",
       "    </tr>\n",
       "    <tr>\n",
       "        <td>TEK210</td>\n",
       "    </tr>\n",
       "</table>"
      ],
      "text/plain": [
       "[('EDA070',),\n",
       " ('EDA385',),\n",
       " ('EDAA25',),\n",
       " ('EDAF05',),\n",
       " ('EEMN10',),\n",
       " ('EIT020',),\n",
       " ('EIT060',),\n",
       " ('EITF40',),\n",
       " ('EITN40',),\n",
       " ('EITN50',),\n",
       " ('ESS050',),\n",
       " ('ETIF10',),\n",
       " ('ETIF15',),\n",
       " ('ETIN35',),\n",
       " ('ETS052',),\n",
       " ('ETS075',),\n",
       " ('ETS200',),\n",
       " ('ETSA01',),\n",
       " ('EXTA10',),\n",
       " ('EXTA35',),\n",
       " ('FAFF20',),\n",
       " ('FAFF25',),\n",
       " ('FMA145',),\n",
       " ('FMA420',),\n",
       " ('FMAA01',),\n",
       " ('FMAF05',),\n",
       " ('FMS012',),\n",
       " ('FMSF15',),\n",
       " ('FMSN30',),\n",
       " ('FMSN35',),\n",
       " ('FRTN10',),\n",
       " ('GEMA45',),\n",
       " ('GEMA70',),\n",
       " ('MAMF15',),\n",
       " ('TEK210',)]"
      ]
     },
     "execution_count": 251,
     "metadata": {},
     "output_type": "execute_result"
    }
   ],
   "source": [
    "%%sql\n",
    "SELECT course_code\n",
    "FROM student_results"
   ]
  },
  {
   "cell_type": "markdown",
   "id": "edc29d0e",
   "metadata": {},
   "source": [
    "What are the names of these courses, and how many credits do they give?"
   ]
  },
  {
   "cell_type": "code",
   "execution_count": 252,
   "id": "14925aa5",
   "metadata": {
    "attributes": {
     "classes": [
      "clear"
     ],
     "id": ""
    }
   },
   "outputs": [
    {
     "name": "stdout",
     "output_type": "stream",
     "text": [
      " * sqlite:///lab1.sqlite\n",
      "Done.\n"
     ]
    },
    {
     "data": {
      "text/html": [
       "<table>\n",
       "    <tr>\n",
       "        <th>course_code</th>\n",
       "        <th>course_name</th>\n",
       "        <th>credits</th>\n",
       "    </tr>\n",
       "    <tr>\n",
       "        <td>EDA070</td>\n",
       "        <td>Datorer och datoranvändning</td>\n",
       "        <td>3.0</td>\n",
       "    </tr>\n",
       "    <tr>\n",
       "        <td>EDA385</td>\n",
       "        <td>Konstruktion av inbyggda system, fördjupningskurs</td>\n",
       "        <td>7.5</td>\n",
       "    </tr>\n",
       "    <tr>\n",
       "        <td>EDAA25</td>\n",
       "        <td>C-programmering</td>\n",
       "        <td>3.0</td>\n",
       "    </tr>\n",
       "    <tr>\n",
       "        <td>EDAF05</td>\n",
       "        <td>Algoritmer, datastrukturer och komplexitet</td>\n",
       "        <td>5.0</td>\n",
       "    </tr>\n",
       "    <tr>\n",
       "        <td>EEMN10</td>\n",
       "        <td>Datorbaserade mätsystem</td>\n",
       "        <td>7.5</td>\n",
       "    </tr>\n",
       "    <tr>\n",
       "        <td>EIT020</td>\n",
       "        <td>Digitalteknik</td>\n",
       "        <td>9.0</td>\n",
       "    </tr>\n",
       "    <tr>\n",
       "        <td>EIT060</td>\n",
       "        <td>Datasäkerhet</td>\n",
       "        <td>7.5</td>\n",
       "    </tr>\n",
       "    <tr>\n",
       "        <td>EITF40</td>\n",
       "        <td>Digitala och analoga projekt</td>\n",
       "        <td>7.5</td>\n",
       "    </tr>\n",
       "    <tr>\n",
       "        <td>EITN40</td>\n",
       "        <td>Avancerad webbsäkerhet</td>\n",
       "        <td>4.0</td>\n",
       "    </tr>\n",
       "    <tr>\n",
       "        <td>EITN50</td>\n",
       "        <td>Avancerad datasäkerhet</td>\n",
       "        <td>7.5</td>\n",
       "    </tr>\n",
       "    <tr>\n",
       "        <td>ESS050</td>\n",
       "        <td>Elektromagnetisk fältteori</td>\n",
       "        <td>9.0</td>\n",
       "    </tr>\n",
       "    <tr>\n",
       "        <td>ETIF10</td>\n",
       "        <td>Signalbehandling - design och implementering</td>\n",
       "        <td>7.5</td>\n",
       "    </tr>\n",
       "    <tr>\n",
       "        <td>ETIF15</td>\n",
       "        <td>Medicinsk signalbehandling</td>\n",
       "        <td>7.5</td>\n",
       "    </tr>\n",
       "    <tr>\n",
       "        <td>ETIN35</td>\n",
       "        <td>IC-projekt 1</td>\n",
       "        <td>7.5</td>\n",
       "    </tr>\n",
       "    <tr>\n",
       "        <td>ETS052</td>\n",
       "        <td>Datorkommunikation</td>\n",
       "        <td>4.5</td>\n",
       "    </tr>\n",
       "    <tr>\n",
       "        <td>ETS075</td>\n",
       "        <td>Kösystem</td>\n",
       "        <td>4.5</td>\n",
       "    </tr>\n",
       "    <tr>\n",
       "        <td>ETS200</td>\n",
       "        <td>Programvarutestning</td>\n",
       "        <td>7.5</td>\n",
       "    </tr>\n",
       "    <tr>\n",
       "        <td>ETSA01</td>\n",
       "        <td>Ingenjörsprocessen för programvaruutveckling - metodik</td>\n",
       "        <td>5.0</td>\n",
       "    </tr>\n",
       "    <tr>\n",
       "        <td>EXTA10</td>\n",
       "        <td>Introduktion till Kinas samhällsliv, kultur och språk</td>\n",
       "        <td>3.0</td>\n",
       "    </tr>\n",
       "    <tr>\n",
       "        <td>EXTA35</td>\n",
       "        <td>Introduktionskurs i kinesiska för civilingenjörer</td>\n",
       "        <td>15.0</td>\n",
       "    </tr>\n",
       "    <tr>\n",
       "        <td>FAFF20</td>\n",
       "        <td>Multispektral avbildning</td>\n",
       "        <td>7.5</td>\n",
       "    </tr>\n",
       "    <tr>\n",
       "        <td>FAFF25</td>\n",
       "        <td>Fysik</td>\n",
       "        <td>11.0</td>\n",
       "    </tr>\n",
       "    <tr>\n",
       "        <td>FMA145</td>\n",
       "        <td>Olinjära dynamiska system, projektdel</td>\n",
       "        <td>3.0</td>\n",
       "    </tr>\n",
       "    <tr>\n",
       "        <td>FMA420</td>\n",
       "        <td>Linjär algebra</td>\n",
       "        <td>6.0</td>\n",
       "    </tr>\n",
       "    <tr>\n",
       "        <td>FMAA01</td>\n",
       "        <td>Endimensionell analys</td>\n",
       "        <td>15.0</td>\n",
       "    </tr>\n",
       "    <tr>\n",
       "        <td>FMAF05</td>\n",
       "        <td>Matematik - System och transformer</td>\n",
       "        <td>7.0</td>\n",
       "    </tr>\n",
       "    <tr>\n",
       "        <td>FMS012</td>\n",
       "        <td>Matematisk statistik, allmän kurs</td>\n",
       "        <td>9.0</td>\n",
       "    </tr>\n",
       "    <tr>\n",
       "        <td>FMSF15</td>\n",
       "        <td>Markovprocesser</td>\n",
       "        <td>7.5</td>\n",
       "    </tr>\n",
       "    <tr>\n",
       "        <td>FMSN30</td>\n",
       "        <td>Linjär och logistisk regression</td>\n",
       "        <td>7.5</td>\n",
       "    </tr>\n",
       "    <tr>\n",
       "        <td>FMSN35</td>\n",
       "        <td>Stationär och icke-stationär spektralanalys</td>\n",
       "        <td>7.5</td>\n",
       "    </tr>\n",
       "    <tr>\n",
       "        <td>FRTN10</td>\n",
       "        <td>Flervariabel reglering</td>\n",
       "        <td>7.5</td>\n",
       "    </tr>\n",
       "    <tr>\n",
       "        <td>GEMA45</td>\n",
       "        <td>Förståelse och lärande</td>\n",
       "        <td>3.0</td>\n",
       "    </tr>\n",
       "    <tr>\n",
       "        <td>GEMA70</td>\n",
       "        <td>Japanska för tekniker</td>\n",
       "        <td>15.0</td>\n",
       "    </tr>\n",
       "    <tr>\n",
       "        <td>MAMF15</td>\n",
       "        <td>Arbetsorganisation och ledarskap</td>\n",
       "        <td>6.0</td>\n",
       "    </tr>\n",
       "    <tr>\n",
       "        <td>TEK210</td>\n",
       "        <td>Kognition</td>\n",
       "        <td>4.5</td>\n",
       "    </tr>\n",
       "</table>"
      ],
      "text/plain": [
       "[('EDA070', 'Datorer och datoranvändning', 3.0),\n",
       " ('EDA385', 'Konstruktion av inbyggda system, fördjupningskurs', 7.5),\n",
       " ('EDAA25', 'C-programmering', 3.0),\n",
       " ('EDAF05', 'Algoritmer, datastrukturer och komplexitet', 5.0),\n",
       " ('EEMN10', 'Datorbaserade mätsystem', 7.5),\n",
       " ('EIT020', 'Digitalteknik', 9.0),\n",
       " ('EIT060', 'Datasäkerhet', 7.5),\n",
       " ('EITF40', 'Digitala och analoga projekt', 7.5),\n",
       " ('EITN40', 'Avancerad webbsäkerhet', 4.0),\n",
       " ('EITN50', 'Avancerad datasäkerhet', 7.5),\n",
       " ('ESS050', 'Elektromagnetisk fältteori', 9.0),\n",
       " ('ETIF10', 'Signalbehandling - design och implementering', 7.5),\n",
       " ('ETIF15', 'Medicinsk signalbehandling', 7.5),\n",
       " ('ETIN35', 'IC-projekt 1', 7.5),\n",
       " ('ETS052', 'Datorkommunikation', 4.5),\n",
       " ('ETS075', 'Kösystem', 4.5),\n",
       " ('ETS200', 'Programvarutestning', 7.5),\n",
       " ('ETSA01', 'Ingenjörsprocessen för programvaruutveckling - metodik', 5.0),\n",
       " ('EXTA10', 'Introduktion till Kinas samhällsliv, kultur och språk', 3.0),\n",
       " ('EXTA35', 'Introduktionskurs i kinesiska för civilingenjörer', 15.0),\n",
       " ('FAFF20', 'Multispektral avbildning', 7.5),\n",
       " ('FAFF25', 'Fysik', 11.0),\n",
       " ('FMA145', 'Olinjära dynamiska system, projektdel', 3.0),\n",
       " ('FMA420', 'Linjär algebra', 6.0),\n",
       " ('FMAA01', 'Endimensionell analys', 15.0),\n",
       " ('FMAF05', 'Matematik - System och transformer', 7.0),\n",
       " ('FMS012', 'Matematisk statistik, allmän kurs', 9.0),\n",
       " ('FMSF15', 'Markovprocesser', 7.5),\n",
       " ('FMSN30', 'Linjär och logistisk regression', 7.5),\n",
       " ('FMSN35', 'Stationär och icke-stationär spektralanalys', 7.5),\n",
       " ('FRTN10', 'Flervariabel reglering', 7.5),\n",
       " ('GEMA45', 'Förståelse och lärande', 3.0),\n",
       " ('GEMA70', 'Japanska för tekniker', 15.0),\n",
       " ('MAMF15', 'Arbetsorganisation och ledarskap', 6.0),\n",
       " ('TEK210', 'Kognition', 4.5)]"
      ]
     },
     "execution_count": 252,
     "metadata": {},
     "output_type": "execute_result"
    }
   ],
   "source": [
    "%%sql\n",
    "\n",
    "SELECT course_code, course_name, credits\n",
    "FROM student_results\n",
    "JOIN courses\n",
    "USING (course_code)\n",
    "\n"
   ]
  },
  {
   "cell_type": "markdown",
   "id": "7b74b0be",
   "metadata": {},
   "source": [
    "How many credits has the student taken?"
   ]
  },
  {
   "cell_type": "code",
   "execution_count": 253,
   "id": "516b50af",
   "metadata": {
    "attributes": {
     "classes": [
      "clear"
     ],
     "id": ""
    }
   },
   "outputs": [
    {
     "name": "stdout",
     "output_type": "stream",
     "text": [
      " * sqlite:///lab1.sqlite\n",
      "Done.\n"
     ]
    },
    {
     "data": {
      "text/html": [
       "<table>\n",
       "    <tr>\n",
       "        <th>sum(credits)</th>\n",
       "    </tr>\n",
       "    <tr>\n",
       "        <td>249.5</td>\n",
       "    </tr>\n",
       "</table>"
      ],
      "text/plain": [
       "[(249.5,)]"
      ]
     },
     "execution_count": 253,
     "metadata": {},
     "output_type": "execute_result"
    }
   ],
   "source": [
    "%%sql\n",
    "\n",
    "SELECT sum(credits)\n",
    "FROM student_results\n",
    "JOIN courses\n",
    "USING (course_code)"
   ]
  },
  {
   "cell_type": "markdown",
   "id": "e9d36b66",
   "metadata": {},
   "source": [
    "What is the student’s grade average?\n",
    "It turns out that there are actually (at least) two different averages at play here:\n",
    "\n",
    "+ the unweighted average, i.e., just the average of all the students grades (no matter how many credits each course gives), and\n",
    "\n",
    "+ the [weighted average](https://en.wikipedia.org/wiki/Weighted_arithmetic_mean), where we use the credits for a course as a weight.\n",
    "\n",
    "First the unweighted average:"
   ]
  },
  {
   "cell_type": "code",
   "execution_count": 254,
   "id": "f27d33ac",
   "metadata": {
    "attributes": {
     "classes": [
      "clear"
     ],
     "id": ""
    }
   },
   "outputs": [
    {
     "name": "stdout",
     "output_type": "stream",
     "text": [
      " * sqlite:///lab1.sqlite\n",
      "Done.\n"
     ]
    },
    {
     "data": {
      "text/html": [
       "<table>\n",
       "    <tr>\n",
       "        <th>avg(grade)</th>\n",
       "    </tr>\n",
       "    <tr>\n",
       "        <td>4.0285714285714285</td>\n",
       "    </tr>\n",
       "</table>"
      ],
      "text/plain": [
       "[(4.0285714285714285,)]"
      ]
     },
     "execution_count": 254,
     "metadata": {},
     "output_type": "execute_result"
    }
   ],
   "source": [
    "%%sql\n",
    "\n",
    "SELECT avg(grade)\n",
    "FROM student_results\n"
   ]
  },
  {
   "cell_type": "markdown",
   "id": "1181c2de",
   "metadata": {},
   "source": [
    "And then the weighted average (feel free to ask me about this during QA sessions, if you get stuck):"
   ]
  },
  {
   "cell_type": "code",
   "execution_count": 256,
   "id": "436f410f",
   "metadata": {
    "attributes": {
     "classes": [
      "clear"
     ],
     "id": ""
    }
   },
   "outputs": [
    {
     "name": "stdout",
     "output_type": "stream",
     "text": [
      " * sqlite:///lab1.sqlite\n",
      "Done.\n"
     ]
    },
    {
     "data": {
      "text/html": [
       "<table>\n",
       "    <tr>\n",
       "        <th>weighted_average</th>\n",
       "    </tr>\n",
       "    <tr>\n",
       "        <td>4.138276553106213</td>\n",
       "    </tr>\n",
       "</table>"
      ],
      "text/plain": [
       "[(4.138276553106213,)]"
      ]
     },
     "execution_count": 256,
     "metadata": {},
     "output_type": "execute_result"
    }
   ],
   "source": [
    "%%sql\n",
    "\n",
    "SELECT sum(grade * credits) / sum(credits) AS weighted_average\n",
    "FROM student_results\n",
    "JOIN courses\n",
    "USING (course_code)"
   ]
  },
  {
   "cell_type": "markdown",
   "id": "bac9e254",
   "metadata": {},
   "source": [
    "Hint: If you've created a proper view above, we'll get a 'table' with one row for each course the student has passed, and each row will contain information about grades and credits for the passed course.\n",
    "If we use arithmetic operations in a select statement, and then use an aggregate function around that operation, we'll apply the aggregate function to each value the operation returns (so, e.g., a `sum` over a product will be a scalar product).\n",
    "\n",
    "Now drop the view:"
   ]
  },
  {
   "cell_type": "code",
   "execution_count": 257,
   "id": "a5b36243",
   "metadata": {
    "attributes": {
     "classes": [
      "clear"
     ],
     "id": ""
    }
   },
   "outputs": [
    {
     "name": "stdout",
     "output_type": "stream",
     "text": [
      " * sqlite:///lab1.sqlite\n",
      "Done.\n"
     ]
    },
    {
     "data": {
      "text/plain": [
       "[]"
      ]
     },
     "execution_count": 257,
     "metadata": {},
     "output_type": "execute_result"
    }
   ],
   "source": [
    "%%sql\n",
    "DROP VIEW student_results;"
   ]
  },
  {
   "cell_type": "markdown",
   "id": "e7491b60",
   "metadata": {},
   "source": [
    "<a id='problem_7'></a>\n",
    "\n",
    "## Problem 7 - REVIEW\n",
    "\n",
    "For the five departments which offers the most total credits (for its courses in this database) -- output the name of the department, and the total number of offered credits:"
   ]
  },
  {
   "cell_type": "code",
   "execution_count": 258,
   "id": "378b6e87",
   "metadata": {
    "attributes": {
     "classes": [
      "clear"
     ],
     "id": ""
    }
   },
   "outputs": [
    {
     "name": "stdout",
     "output_type": "stream",
     "text": [
      " * sqlite:///lab1.sqlite\n",
      "Done.\n"
     ]
    },
    {
     "data": {
      "text/html": [
       "<table>\n",
       "    <tr>\n",
       "        <th>department_name</th>\n",
       "        <th>sum(credits)</th>\n",
       "    </tr>\n",
       "    <tr>\n",
       "        <td>Datavetenskap</td>\n",
       "        <td>216.0</td>\n",
       "    </tr>\n",
       "    <tr>\n",
       "        <td>Designvetenskaper</td>\n",
       "        <td>73.5</td>\n",
       "    </tr>\n",
       "    <tr>\n",
       "        <td>Elektrisk mätteknik</td>\n",
       "        <td>45.0</td>\n",
       "    </tr>\n",
       "    <tr>\n",
       "        <td>Elektro- och informationsteknik</td>\n",
       "        <td>332.0</td>\n",
       "    </tr>\n",
       "    <tr>\n",
       "        <td>Filosofi</td>\n",
       "        <td>12.0</td>\n",
       "    </tr>\n",
       "    <tr>\n",
       "        <td>Fysik</td>\n",
       "        <td>44.5</td>\n",
       "    </tr>\n",
       "    <tr>\n",
       "        <td>Industriell automation</td>\n",
       "        <td>15.0</td>\n",
       "    </tr>\n",
       "    <tr>\n",
       "        <td>Industriell elektroteknik och automation</td>\n",
       "        <td>27.5</td>\n",
       "    </tr>\n",
       "    <tr>\n",
       "        <td>Informationsteori</td>\n",
       "        <td>22.5</td>\n",
       "    </tr>\n",
       "    <tr>\n",
       "        <td>Internationella institutet för industriell miljöekonomi</td>\n",
       "        <td>7.5</td>\n",
       "    </tr>\n",
       "    <tr>\n",
       "        <td>Maskinvetenskaper</td>\n",
       "        <td>27.0</td>\n",
       "    </tr>\n",
       "    <tr>\n",
       "        <td>Matematik</td>\n",
       "        <td>160.0</td>\n",
       "    </tr>\n",
       "    <tr>\n",
       "        <td>Matematisk statistik</td>\n",
       "        <td>84.0</td>\n",
       "    </tr>\n",
       "    <tr>\n",
       "        <td>Reglerteknik</td>\n",
       "        <td>65.5</td>\n",
       "    </tr>\n",
       "    <tr>\n",
       "        <td>Språk och litteraturcentrum</td>\n",
       "        <td>106.5</td>\n",
       "    </tr>\n",
       "    <tr>\n",
       "        <td>Teknik och samhälle</td>\n",
       "        <td>22.5</td>\n",
       "    </tr>\n",
       "</table>"
      ],
      "text/plain": [
       "[('Datavetenskap', 216.0),\n",
       " ('Designvetenskaper', 73.5),\n",
       " ('Elektrisk mätteknik', 45.0),\n",
       " ('Elektro- och informationsteknik', 332.0),\n",
       " ('Filosofi', 12.0),\n",
       " ('Fysik', 44.5),\n",
       " ('Industriell automation', 15.0),\n",
       " ('Industriell elektroteknik och automation', 27.5),\n",
       " ('Informationsteori', 22.5),\n",
       " ('Internationella institutet för industriell miljöekonomi', 7.5),\n",
       " ('Maskinvetenskaper', 27.0),\n",
       " ('Matematik', 160.0),\n",
       " ('Matematisk statistik', 84.0),\n",
       " ('Reglerteknik', 65.5),\n",
       " ('Språk och litteraturcentrum', 106.5),\n",
       " ('Teknik och samhälle', 22.5)]"
      ]
     },
     "execution_count": 258,
     "metadata": {},
     "output_type": "execute_result"
    }
   ],
   "source": [
    "%%sql\n",
    "\n",
    "SELECT department_name, sum(credits) \n",
    "FROM courses\n",
    "JOIN departments\n",
    "USING (department_code)\n",
    "GROUP BY department_name \n",
    "\n"
   ]
  },
  {
   "cell_type": "markdown",
   "id": "658d7555",
   "metadata": {},
   "source": [
    "Jump to [next REVIEW problem](#problem_8)\n",
    "\n",
    "<a id='problem_8'></a>\n",
    "\n",
    "## Problem 8 - REVIEW\n",
    "\n",
    "Which students (`ssn` and full name) have taken 0 credits? This problem can be solved in several ways, first do it with an outer join:"
   ]
  },
  {
   "cell_type": "code",
   "execution_count": 259,
   "id": "af7d527c",
   "metadata": {
    "attributes": {
     "classes": [
      "clear"
     ],
     "id": ""
    }
   },
   "outputs": [
    {
     "name": "stdout",
     "output_type": "stream",
     "text": [
      " * sqlite:///lab1.sqlite\n",
      "Done.\n"
     ]
    },
    {
     "data": {
      "text/html": [
       "<table>\n",
       "    <tr>\n",
       "        <th>first_name</th>\n",
       "        <th>last_name</th>\n",
       "        <th>ssn</th>\n",
       "    </tr>\n",
       "    <tr>\n",
       "        <td>Anna</td>\n",
       "        <td>Nyström</td>\n",
       "        <td>950829-1848</td>\n",
       "    </tr>\n",
       "    <tr>\n",
       "        <td>Caroline</td>\n",
       "        <td>Olsson</td>\n",
       "        <td>870909-3367</td>\n",
       "    </tr>\n",
       "    <tr>\n",
       "        <td>Bo</td>\n",
       "        <td>Ek</td>\n",
       "        <td>931225-3158</td>\n",
       "    </tr>\n",
       "    <tr>\n",
       "        <td>Erik</td>\n",
       "        <td>Andersson</td>\n",
       "        <td>891220-1393</td>\n",
       "    </tr>\n",
       "    <tr>\n",
       "        <td>Erik</td>\n",
       "        <td>Andersson</td>\n",
       "        <td>900313-2257</td>\n",
       "    </tr>\n",
       "    <tr>\n",
       "        <td>Johan</td>\n",
       "        <td>Lind</td>\n",
       "        <td>891007-3091</td>\n",
       "    </tr>\n",
       "    <tr>\n",
       "        <td>Filip</td>\n",
       "        <td>Persson</td>\n",
       "        <td>850517-2597</td>\n",
       "    </tr>\n",
       "    <tr>\n",
       "        <td>Jonathan</td>\n",
       "        <td>Jönsson</td>\n",
       "        <td>911015-3758</td>\n",
       "    </tr>\n",
       "    <tr>\n",
       "        <td>Magnus</td>\n",
       "        <td>Hultgren</td>\n",
       "        <td>950125-1153</td>\n",
       "    </tr>\n",
       "    <tr>\n",
       "        <td>Joakim</td>\n",
       "        <td>Hall</td>\n",
       "        <td>880206-1915</td>\n",
       "    </tr>\n",
       "    <tr>\n",
       "        <td>Henrik</td>\n",
       "        <td>Gustavsson</td>\n",
       "        <td>900129-3374</td>\n",
       "    </tr>\n",
       "</table>"
      ],
      "text/plain": [
       "[('Anna', 'Nyström', '950829-1848'),\n",
       " ('Caroline', 'Olsson', '870909-3367'),\n",
       " ('Bo', 'Ek', '931225-3158'),\n",
       " ('Erik', 'Andersson', '891220-1393'),\n",
       " ('Erik', 'Andersson', '900313-2257'),\n",
       " ('Johan', 'Lind', '891007-3091'),\n",
       " ('Filip', 'Persson', '850517-2597'),\n",
       " ('Jonathan', 'Jönsson', '911015-3758'),\n",
       " ('Magnus', 'Hultgren', '950125-1153'),\n",
       " ('Joakim', 'Hall', '880206-1915'),\n",
       " ('Henrik', 'Gustavsson', '900129-3374')]"
      ]
     },
     "execution_count": 259,
     "metadata": {},
     "output_type": "execute_result"
    }
   ],
   "source": [
    "%%sql\n",
    "\n",
    "SELECT first_name, last_name, ssn\n",
    "FROM students\n",
    "LEFT OUTER JOIN taken_courses\n",
    "USING (ssn)\n",
    "WHERE course_code IS NULL\n",
    "\n"
   ]
  },
  {
   "cell_type": "markdown",
   "id": "24d2049d",
   "metadata": {},
   "source": [
    "Now do the same thing using a subquery:"
   ]
  },
  {
   "cell_type": "code",
   "execution_count": 260,
   "id": "38dc0b6a",
   "metadata": {
    "attributes": {
     "classes": [
      "clear"
     ],
     "id": ""
    }
   },
   "outputs": [
    {
     "name": "stdout",
     "output_type": "stream",
     "text": [
      " * sqlite:///lab1.sqlite\n",
      "Done.\n"
     ]
    },
    {
     "data": {
      "text/html": [
       "<table>\n",
       "    <tr>\n",
       "        <th>first_name</th>\n",
       "        <th>last_name</th>\n",
       "        <th>ssn</th>\n",
       "    </tr>\n",
       "    <tr>\n",
       "        <td>Anna</td>\n",
       "        <td>Nyström</td>\n",
       "        <td>950829-1848</td>\n",
       "    </tr>\n",
       "    <tr>\n",
       "        <td>Caroline</td>\n",
       "        <td>Olsson</td>\n",
       "        <td>870909-3367</td>\n",
       "    </tr>\n",
       "    <tr>\n",
       "        <td>Bo</td>\n",
       "        <td>Ek</td>\n",
       "        <td>931225-3158</td>\n",
       "    </tr>\n",
       "    <tr>\n",
       "        <td>Erik</td>\n",
       "        <td>Andersson</td>\n",
       "        <td>891220-1393</td>\n",
       "    </tr>\n",
       "    <tr>\n",
       "        <td>Erik</td>\n",
       "        <td>Andersson</td>\n",
       "        <td>900313-2257</td>\n",
       "    </tr>\n",
       "    <tr>\n",
       "        <td>Johan</td>\n",
       "        <td>Lind</td>\n",
       "        <td>891007-3091</td>\n",
       "    </tr>\n",
       "    <tr>\n",
       "        <td>Filip</td>\n",
       "        <td>Persson</td>\n",
       "        <td>850517-2597</td>\n",
       "    </tr>\n",
       "    <tr>\n",
       "        <td>Jonathan</td>\n",
       "        <td>Jönsson</td>\n",
       "        <td>911015-3758</td>\n",
       "    </tr>\n",
       "    <tr>\n",
       "        <td>Magnus</td>\n",
       "        <td>Hultgren</td>\n",
       "        <td>950125-1153</td>\n",
       "    </tr>\n",
       "    <tr>\n",
       "        <td>Joakim</td>\n",
       "        <td>Hall</td>\n",
       "        <td>880206-1915</td>\n",
       "    </tr>\n",
       "    <tr>\n",
       "        <td>Henrik</td>\n",
       "        <td>Gustavsson</td>\n",
       "        <td>900129-3374</td>\n",
       "    </tr>\n",
       "</table>"
      ],
      "text/plain": [
       "[('Anna', 'Nyström', '950829-1848'),\n",
       " ('Caroline', 'Olsson', '870909-3367'),\n",
       " ('Bo', 'Ek', '931225-3158'),\n",
       " ('Erik', 'Andersson', '891220-1393'),\n",
       " ('Erik', 'Andersson', '900313-2257'),\n",
       " ('Johan', 'Lind', '891007-3091'),\n",
       " ('Filip', 'Persson', '850517-2597'),\n",
       " ('Jonathan', 'Jönsson', '911015-3758'),\n",
       " ('Magnus', 'Hultgren', '950125-1153'),\n",
       " ('Joakim', 'Hall', '880206-1915'),\n",
       " ('Henrik', 'Gustavsson', '900129-3374')]"
      ]
     },
     "execution_count": 260,
     "metadata": {},
     "output_type": "execute_result"
    }
   ],
   "source": [
    "%%sql\n",
    "\n",
    "SELECT first_name, last_name, ssn\n",
    "FROM students\n",
    "WHERE ssn NOT IN (\n",
    "            SELECT ssn\n",
    "            FROM taken_courses\n",
    ")"
   ]
  },
  {
   "cell_type": "markdown",
   "id": "7edc8b31",
   "metadata": {},
   "source": [
    "Jump to [next REVIEW problem](#problem_9)\n",
    "\n",
    "<a id='problem_9'></a>\n",
    "\n",
    "## Problem 9 - REVIEW\n",
    "\n",
    "List the names and average grades of the 10 students with the highest grade average? You can use the unweighted average."
   ]
  },
  {
   "cell_type": "code",
   "execution_count": 261,
   "id": "71c32c87",
   "metadata": {
    "attributes": {
     "classes": [
      "clear"
     ],
     "id": ""
    }
   },
   "outputs": [
    {
     "name": "stdout",
     "output_type": "stream",
     "text": [
      " * sqlite:///lab1.sqlite\n",
      "Done.\n"
     ]
    },
    {
     "data": {
      "text/html": [
       "<table>\n",
       "    <tr>\n",
       "        <th>first_name</th>\n",
       "        <th>last_name</th>\n",
       "        <th>avg_grade</th>\n",
       "    </tr>\n",
       "    <tr>\n",
       "        <td>Bo</td>\n",
       "        <td>Ek</td>\n",
       "        <td>4.35</td>\n",
       "    </tr>\n",
       "    <tr>\n",
       "        <td>Helena</td>\n",
       "        <td>Troberg</td>\n",
       "        <td>4.3076923076923075</td>\n",
       "    </tr>\n",
       "    <tr>\n",
       "        <td>Elaine</td>\n",
       "        <td>Robertson</td>\n",
       "        <td>4.235294117647059</td>\n",
       "    </tr>\n",
       "    <tr>\n",
       "        <td>Anna</td>\n",
       "        <td>Johansson</td>\n",
       "        <td>4.230769230769231</td>\n",
       "    </tr>\n",
       "    <tr>\n",
       "        <td>Ylva</td>\n",
       "        <td>Jacobsson</td>\n",
       "        <td>4.21875</td>\n",
       "    </tr>\n",
       "    <tr>\n",
       "        <td>Anna</td>\n",
       "        <td>Johansson</td>\n",
       "        <td>4.2</td>\n",
       "    </tr>\n",
       "    <tr>\n",
       "        <td>Mikael</td>\n",
       "        <td>Nilsson</td>\n",
       "        <td>4.173913043478261</td>\n",
       "    </tr>\n",
       "    <tr>\n",
       "        <td>Jakob</td>\n",
       "        <td>Malmberg</td>\n",
       "        <td>4.166666666666667</td>\n",
       "    </tr>\n",
       "    <tr>\n",
       "        <td>Maria</td>\n",
       "        <td>Andersson</td>\n",
       "        <td>4.157894736842105</td>\n",
       "    </tr>\n",
       "    <tr>\n",
       "        <td>Per-Erik</td>\n",
       "        <td>Pettersson</td>\n",
       "        <td>4.153846153846154</td>\n",
       "    </tr>\n",
       "</table>"
      ],
      "text/plain": [
       "[('Bo', 'Ek', 4.35),\n",
       " ('Helena', 'Troberg', 4.3076923076923075),\n",
       " ('Elaine', 'Robertson', 4.235294117647059),\n",
       " ('Anna', 'Johansson', 4.230769230769231),\n",
       " ('Ylva', 'Jacobsson', 4.21875),\n",
       " ('Anna', 'Johansson', 4.2),\n",
       " ('Mikael', 'Nilsson', 4.173913043478261),\n",
       " ('Jakob', 'Malmberg', 4.166666666666667),\n",
       " ('Maria', 'Andersson', 4.157894736842105),\n",
       " ('Per-Erik', 'Pettersson', 4.153846153846154)]"
      ]
     },
     "execution_count": 261,
     "metadata": {},
     "output_type": "execute_result"
    }
   ],
   "source": [
    "%%sql\n",
    "\n",
    "SELECT first_name, last_name, avg(grade) AS avg_grade\n",
    "FROM students\n",
    "LEFT OUTER JOIN taken_courses\n",
    "USING (ssn)\n",
    "GROUP BY ssn\n",
    "ORDER BY avg_grade DESC\n",
    "LIMIT 10\n",
    "\n"
   ]
  },
  {
   "cell_type": "markdown",
   "id": "819b300e",
   "metadata": {},
   "source": [
    "Jump to [next REVIEW problem](#problem_10)\n",
    "\n",
    "<a id='problem_10'></a>\n",
    "\n",
    "## Problem 10 - REVIEW\n",
    "\n",
    "List the social security number and total number of credits for all students -- order by total credits, descending. Students with no credits should be included in the listing, with 0 credits (not `NULL`).\n",
    "\n",
    "Use an outer `JOIN` to solve the problem -- you might want to use the function `coalesce(v1, v2, ...)`; it returns the first value which is not `NULL`, so `coalesce(avg(grade), 0)` would give 0 if the were no grades (i.e., if `grade` were `NULL`), you can also try the `ifnull` function."
   ]
  },
  {
   "cell_type": "code",
   "execution_count": 262,
   "id": "985a412b",
   "metadata": {
    "attributes": {
     "classes": [
      "clear"
     ],
     "id": ""
    }
   },
   "outputs": [
    {
     "name": "stdout",
     "output_type": "stream",
     "text": [
      " * sqlite:///lab1.sqlite\n",
      "Done.\n"
     ]
    },
    {
     "data": {
      "text/html": [
       "<table>\n",
       "    <tr>\n",
       "        <th>first_name</th>\n",
       "        <th>last_name</th>\n",
       "        <th>total_credits</th>\n",
       "    </tr>\n",
       "    <tr>\n",
       "        <td>Frida</td>\n",
       "        <td>Weidel</td>\n",
       "        <td>350.0</td>\n",
       "    </tr>\n",
       "    <tr>\n",
       "        <td>Susanne</td>\n",
       "        <td>Dahl</td>\n",
       "        <td>348.5</td>\n",
       "    </tr>\n",
       "    <tr>\n",
       "        <td>Karolin</td>\n",
       "        <td>Ek</td>\n",
       "        <td>338.0</td>\n",
       "    </tr>\n",
       "    <tr>\n",
       "        <td>Magnus</td>\n",
       "        <td>Pettersson</td>\n",
       "        <td>334.0</td>\n",
       "    </tr>\n",
       "    <tr>\n",
       "        <td>Mats</td>\n",
       "        <td>Wikström</td>\n",
       "        <td>332.0</td>\n",
       "    </tr>\n",
       "    <tr>\n",
       "        <td>Ola</td>\n",
       "        <td>Nilsson</td>\n",
       "        <td>295.5</td>\n",
       "    </tr>\n",
       "    <tr>\n",
       "        <td>David</td>\n",
       "        <td>Carlsson</td>\n",
       "        <td>289.0</td>\n",
       "    </tr>\n",
       "    <tr>\n",
       "        <td>Anna</td>\n",
       "        <td>Johansson</td>\n",
       "        <td>288.5</td>\n",
       "    </tr>\n",
       "    <tr>\n",
       "        <td>Daniel</td>\n",
       "        <td>Axelsson</td>\n",
       "        <td>268.5</td>\n",
       "    </tr>\n",
       "    <tr>\n",
       "        <td>Roger</td>\n",
       "        <td>Brorsson</td>\n",
       "        <td>267.5</td>\n",
       "    </tr>\n",
       "    <tr>\n",
       "        <td>Lotta</td>\n",
       "        <td>Bergman</td>\n",
       "        <td>267.0</td>\n",
       "    </tr>\n",
       "    <tr>\n",
       "        <td>Märit</td>\n",
       "        <td>Aspegren</td>\n",
       "        <td>262.5</td>\n",
       "    </tr>\n",
       "    <tr>\n",
       "        <td>Marie</td>\n",
       "        <td>Persson</td>\n",
       "        <td>254.0</td>\n",
       "    </tr>\n",
       "    <tr>\n",
       "        <td>Martin</td>\n",
       "        <td>Alm</td>\n",
       "        <td>250.5</td>\n",
       "    </tr>\n",
       "    <tr>\n",
       "        <td>Peter</td>\n",
       "        <td>Solberg</td>\n",
       "        <td>249.5</td>\n",
       "    </tr>\n",
       "    <tr>\n",
       "        <td>Fredrik</td>\n",
       "        <td>Ryd</td>\n",
       "        <td>241.5</td>\n",
       "    </tr>\n",
       "    <tr>\n",
       "        <td>Ylva</td>\n",
       "        <td>Jacobsson</td>\n",
       "        <td>229.5</td>\n",
       "    </tr>\n",
       "    <tr>\n",
       "        <td>Conny</td>\n",
       "        <td>Modig</td>\n",
       "        <td>223.0</td>\n",
       "    </tr>\n",
       "    <tr>\n",
       "        <td>Henrik</td>\n",
       "        <td>Hult</td>\n",
       "        <td>216.0</td>\n",
       "    </tr>\n",
       "    <tr>\n",
       "        <td>Jenny</td>\n",
       "        <td>Lundin</td>\n",
       "        <td>205.0</td>\n",
       "    </tr>\n",
       "    <tr>\n",
       "        <td>Per-Erik</td>\n",
       "        <td>Pettersson</td>\n",
       "        <td>192.0</td>\n",
       "    </tr>\n",
       "    <tr>\n",
       "        <td>Tina</td>\n",
       "        <td>Lööf</td>\n",
       "        <td>189.0</td>\n",
       "    </tr>\n",
       "    <tr>\n",
       "        <td>Eva</td>\n",
       "        <td>Alm</td>\n",
       "        <td>181.0</td>\n",
       "    </tr>\n",
       "    <tr>\n",
       "        <td>Andreas</td>\n",
       "        <td>Molin</td>\n",
       "        <td>174.0</td>\n",
       "    </tr>\n",
       "    <tr>\n",
       "        <td>Anders</td>\n",
       "        <td>Olsson</td>\n",
       "        <td>174.0</td>\n",
       "    </tr>\n",
       "    <tr>\n",
       "        <td>Joakim</td>\n",
       "        <td>Nilsson</td>\n",
       "        <td>171.5</td>\n",
       "    </tr>\n",
       "    <tr>\n",
       "        <td>Tobias</td>\n",
       "        <td>Enberg</td>\n",
       "        <td>170.0</td>\n",
       "    </tr>\n",
       "    <tr>\n",
       "        <td>Henrik</td>\n",
       "        <td>Berg</td>\n",
       "        <td>166.5</td>\n",
       "    </tr>\n",
       "    <tr>\n",
       "        <td>Mikael</td>\n",
       "        <td>Nilsson</td>\n",
       "        <td>161.5</td>\n",
       "    </tr>\n",
       "    <tr>\n",
       "        <td>Torbjörn</td>\n",
       "        <td>Modig</td>\n",
       "        <td>154.5</td>\n",
       "    </tr>\n",
       "    <tr>\n",
       "        <td>Bo</td>\n",
       "        <td>Ek</td>\n",
       "        <td>153.0</td>\n",
       "    </tr>\n",
       "    <tr>\n",
       "        <td>Eva</td>\n",
       "        <td>Hjort</td>\n",
       "        <td>151.0</td>\n",
       "    </tr>\n",
       "    <tr>\n",
       "        <td>Patrik</td>\n",
       "        <td>Ohlsson</td>\n",
       "        <td>148.0</td>\n",
       "    </tr>\n",
       "    <tr>\n",
       "        <td>Maria</td>\n",
       "        <td>Andersson</td>\n",
       "        <td>140.5</td>\n",
       "    </tr>\n",
       "    <tr>\n",
       "        <td>Daniel</td>\n",
       "        <td>Ahlman</td>\n",
       "        <td>139.0</td>\n",
       "    </tr>\n",
       "    <tr>\n",
       "        <td>Christian</td>\n",
       "        <td>Wallman</td>\n",
       "        <td>133.0</td>\n",
       "    </tr>\n",
       "    <tr>\n",
       "        <td>Birgit</td>\n",
       "        <td>Ewesson</td>\n",
       "        <td>123.0</td>\n",
       "    </tr>\n",
       "    <tr>\n",
       "        <td>Filip</td>\n",
       "        <td>Gustavsson</td>\n",
       "        <td>117.5</td>\n",
       "    </tr>\n",
       "    <tr>\n",
       "        <td>Elaine</td>\n",
       "        <td>Robertson</td>\n",
       "        <td>111.0</td>\n",
       "    </tr>\n",
       "    <tr>\n",
       "        <td>Maria</td>\n",
       "        <td>Nordman</td>\n",
       "        <td>110.0</td>\n",
       "    </tr>\n",
       "    <tr>\n",
       "        <td>Helena</td>\n",
       "        <td>Troberg</td>\n",
       "        <td>83.0</td>\n",
       "    </tr>\n",
       "    <tr>\n",
       "        <td>Bo</td>\n",
       "        <td>Ek</td>\n",
       "        <td>76.5</td>\n",
       "    </tr>\n",
       "    <tr>\n",
       "        <td>Lars</td>\n",
       "        <td>Molin</td>\n",
       "        <td>76.0</td>\n",
       "    </tr>\n",
       "    <tr>\n",
       "        <td>Niklas</td>\n",
       "        <td>Andersson</td>\n",
       "        <td>70.5</td>\n",
       "    </tr>\n",
       "    <tr>\n",
       "        <td>Sofia</td>\n",
       "        <td>Kjellberg</td>\n",
       "        <td>64.5</td>\n",
       "    </tr>\n",
       "    <tr>\n",
       "        <td>Karin</td>\n",
       "        <td>Östberg</td>\n",
       "        <td>63.0</td>\n",
       "    </tr>\n",
       "    <tr>\n",
       "        <td>Anders</td>\n",
       "        <td>Magnusson</td>\n",
       "        <td>60.5</td>\n",
       "    </tr>\n",
       "    <tr>\n",
       "        <td>Patrik</td>\n",
       "        <td>Lundh</td>\n",
       "        <td>60.0</td>\n",
       "    </tr>\n",
       "    <tr>\n",
       "        <td>Johan</td>\n",
       "        <td>Brattberg</td>\n",
       "        <td>52.5</td>\n",
       "    </tr>\n",
       "    <tr>\n",
       "        <td>Lotta</td>\n",
       "        <td>Emanuelsson</td>\n",
       "        <td>52.5</td>\n",
       "    </tr>\n",
       "    <tr>\n",
       "        <td>Lisa</td>\n",
       "        <td>Berg</td>\n",
       "        <td>43.5</td>\n",
       "    </tr>\n",
       "    <tr>\n",
       "        <td>Anna</td>\n",
       "        <td>Johansson</td>\n",
       "        <td>37.5</td>\n",
       "    </tr>\n",
       "    <tr>\n",
       "        <td>Jakob</td>\n",
       "        <td>Malmberg</td>\n",
       "        <td>37.0</td>\n",
       "    </tr>\n",
       "    <tr>\n",
       "        <td>Håkan</td>\n",
       "        <td>Mossgren</td>\n",
       "        <td>32.5</td>\n",
       "    </tr>\n",
       "    <tr>\n",
       "        <td>Magnus</td>\n",
       "        <td>Nilsson</td>\n",
       "        <td>31.0</td>\n",
       "    </tr>\n",
       "    <tr>\n",
       "        <td>Ulrika</td>\n",
       "        <td>Jonsson</td>\n",
       "        <td>30.0</td>\n",
       "    </tr>\n",
       "    <tr>\n",
       "        <td>Eva</td>\n",
       "        <td>Nilsson</td>\n",
       "        <td>28.5</td>\n",
       "    </tr>\n",
       "    <tr>\n",
       "        <td>Magnus</td>\n",
       "        <td>Strömgren</td>\n",
       "        <td>22.5</td>\n",
       "    </tr>\n",
       "    <tr>\n",
       "        <td>Johan</td>\n",
       "        <td>Olsson</td>\n",
       "        <td>22.0</td>\n",
       "    </tr>\n",
       "    <tr>\n",
       "        <td>Axel</td>\n",
       "        <td>Nord</td>\n",
       "        <td>7.5</td>\n",
       "    </tr>\n",
       "    <tr>\n",
       "        <td>John</td>\n",
       "        <td>Lind</td>\n",
       "        <td>4.0</td>\n",
       "    </tr>\n",
       "    <tr>\n",
       "        <td>Filip</td>\n",
       "        <td>Persson</td>\n",
       "        <td>0</td>\n",
       "    </tr>\n",
       "    <tr>\n",
       "        <td>Caroline</td>\n",
       "        <td>Olsson</td>\n",
       "        <td>0</td>\n",
       "    </tr>\n",
       "    <tr>\n",
       "        <td>Joakim</td>\n",
       "        <td>Hall</td>\n",
       "        <td>0</td>\n",
       "    </tr>\n",
       "    <tr>\n",
       "        <td>Johan</td>\n",
       "        <td>Lind</td>\n",
       "        <td>0</td>\n",
       "    </tr>\n",
       "    <tr>\n",
       "        <td>Erik</td>\n",
       "        <td>Andersson</td>\n",
       "        <td>0</td>\n",
       "    </tr>\n",
       "    <tr>\n",
       "        <td>Henrik</td>\n",
       "        <td>Gustavsson</td>\n",
       "        <td>0</td>\n",
       "    </tr>\n",
       "    <tr>\n",
       "        <td>Erik</td>\n",
       "        <td>Andersson</td>\n",
       "        <td>0</td>\n",
       "    </tr>\n",
       "    <tr>\n",
       "        <td>Jonathan</td>\n",
       "        <td>Jönsson</td>\n",
       "        <td>0</td>\n",
       "    </tr>\n",
       "    <tr>\n",
       "        <td>Bo</td>\n",
       "        <td>Ek</td>\n",
       "        <td>0</td>\n",
       "    </tr>\n",
       "    <tr>\n",
       "        <td>Magnus</td>\n",
       "        <td>Hultgren</td>\n",
       "        <td>0</td>\n",
       "    </tr>\n",
       "    <tr>\n",
       "        <td>Anna</td>\n",
       "        <td>Nyström</td>\n",
       "        <td>0</td>\n",
       "    </tr>\n",
       "</table>"
      ],
      "text/plain": [
       "[('Frida', 'Weidel', 350.0),\n",
       " ('Susanne', 'Dahl', 348.5),\n",
       " ('Karolin', 'Ek', 338.0),\n",
       " ('Magnus', 'Pettersson', 334.0),\n",
       " ('Mats', 'Wikström', 332.0),\n",
       " ('Ola', 'Nilsson', 295.5),\n",
       " ('David', 'Carlsson', 289.0),\n",
       " ('Anna', 'Johansson', 288.5),\n",
       " ('Daniel', 'Axelsson', 268.5),\n",
       " ('Roger', 'Brorsson', 267.5),\n",
       " ('Lotta', 'Bergman', 267.0),\n",
       " ('Märit', 'Aspegren', 262.5),\n",
       " ('Marie', 'Persson', 254.0),\n",
       " ('Martin', 'Alm', 250.5),\n",
       " ('Peter', 'Solberg', 249.5),\n",
       " ('Fredrik', 'Ryd', 241.5),\n",
       " ('Ylva', 'Jacobsson', 229.5),\n",
       " ('Conny', 'Modig', 223.0),\n",
       " ('Henrik', 'Hult', 216.0),\n",
       " ('Jenny', 'Lundin', 205.0),\n",
       " ('Per-Erik', 'Pettersson', 192.0),\n",
       " ('Tina', 'Lööf', 189.0),\n",
       " ('Eva', 'Alm', 181.0),\n",
       " ('Andreas', 'Molin', 174.0),\n",
       " ('Anders', 'Olsson', 174.0),\n",
       " ('Joakim', 'Nilsson', 171.5),\n",
       " ('Tobias', 'Enberg', 170.0),\n",
       " ('Henrik', 'Berg', 166.5),\n",
       " ('Mikael', 'Nilsson', 161.5),\n",
       " ('Torbjörn', 'Modig', 154.5),\n",
       " ('Bo', 'Ek', 153.0),\n",
       " ('Eva', 'Hjort', 151.0),\n",
       " ('Patrik', 'Ohlsson', 148.0),\n",
       " ('Maria', 'Andersson', 140.5),\n",
       " ('Daniel', 'Ahlman', 139.0),\n",
       " ('Christian', 'Wallman', 133.0),\n",
       " ('Birgit', 'Ewesson', 123.0),\n",
       " ('Filip', 'Gustavsson', 117.5),\n",
       " ('Elaine', 'Robertson', 111.0),\n",
       " ('Maria', 'Nordman', 110.0),\n",
       " ('Helena', 'Troberg', 83.0),\n",
       " ('Bo', 'Ek', 76.5),\n",
       " ('Lars', 'Molin', 76.0),\n",
       " ('Niklas', 'Andersson', 70.5),\n",
       " ('Sofia', 'Kjellberg', 64.5),\n",
       " ('Karin', 'Östberg', 63.0),\n",
       " ('Anders', 'Magnusson', 60.5),\n",
       " ('Patrik', 'Lundh', 60.0),\n",
       " ('Johan', 'Brattberg', 52.5),\n",
       " ('Lotta', 'Emanuelsson', 52.5),\n",
       " ('Lisa', 'Berg', 43.5),\n",
       " ('Anna', 'Johansson', 37.5),\n",
       " ('Jakob', 'Malmberg', 37.0),\n",
       " ('Håkan', 'Mossgren', 32.5),\n",
       " ('Magnus', 'Nilsson', 31.0),\n",
       " ('Ulrika', 'Jonsson', 30.0),\n",
       " ('Eva', 'Nilsson', 28.5),\n",
       " ('Magnus', 'Strömgren', 22.5),\n",
       " ('Johan', 'Olsson', 22.0),\n",
       " ('Axel', 'Nord', 7.5),\n",
       " ('John', 'Lind', 4.0),\n",
       " ('Filip', 'Persson', 0),\n",
       " ('Caroline', 'Olsson', 0),\n",
       " ('Joakim', 'Hall', 0),\n",
       " ('Johan', 'Lind', 0),\n",
       " ('Erik', 'Andersson', 0),\n",
       " ('Henrik', 'Gustavsson', 0),\n",
       " ('Erik', 'Andersson', 0),\n",
       " ('Jonathan', 'Jönsson', 0),\n",
       " ('Bo', 'Ek', 0),\n",
       " ('Magnus', 'Hultgren', 0),\n",
       " ('Anna', 'Nyström', 0)]"
      ]
     },
     "execution_count": 262,
     "metadata": {},
     "output_type": "execute_result"
    }
   ],
   "source": [
    "%%sql\n",
    "\n",
    "SELECT first_name, last_name, coalesce(sum(credits), 0) AS total_credits\n",
    "FROM students\n",
    "LEFT OUTER JOIN taken_courses\n",
    "USING (ssn)\n",
    "LEFT OUTER JOIN courses\n",
    "USING (course_code)\n",
    "GROUP BY ssn\n",
    "ORDER BY total_credits DESC\n"
   ]
  },
  {
   "cell_type": "markdown",
   "id": "b6deb92e",
   "metadata": {},
   "source": [
    "Jump to [next REVIEW problem](#problem_11)\n",
    "\n",
    "<a id='problem_11'></a>\n",
    "\n",
    "## Problem 11 - REVIEW\n",
    "\n",
    "Do all students have unique names (first name _and_ last name)? If not, show the full name and social security number for all students who have a namesake.\n",
    "\n",
    "As usual there are several ways of solving this, solve it using a `WITH`-statement where you create a 'table' with all duplicate names, and then:\n",
    "\n",
    "Use a `JOIN`:"
   ]
  },
  {
   "cell_type": "code",
   "execution_count": 263,
   "id": "1d804c69",
   "metadata": {
    "attributes": {
     "classes": [
      "clear"
     ],
     "id": ""
    }
   },
   "outputs": [
    {
     "name": "stdout",
     "output_type": "stream",
     "text": [
      " * sqlite:///lab1.sqlite\n",
      "Done.\n"
     ]
    },
    {
     "data": {
      "text/html": [
       "<table>\n",
       "    <tr>\n",
       "        <th>first_name</th>\n",
       "        <th>last_name</th>\n",
       "        <th>ssn</th>\n",
       "    </tr>\n",
       "    <tr>\n",
       "        <td>Anna</td>\n",
       "        <td>Johansson</td>\n",
       "        <td>950705-2308</td>\n",
       "    </tr>\n",
       "    <tr>\n",
       "        <td>Anna</td>\n",
       "        <td>Johansson</td>\n",
       "        <td>930702-3582</td>\n",
       "    </tr>\n",
       "    <tr>\n",
       "        <td>Bo</td>\n",
       "        <td>Ek</td>\n",
       "        <td>861103-2438</td>\n",
       "    </tr>\n",
       "    <tr>\n",
       "        <td>Bo</td>\n",
       "        <td>Ek</td>\n",
       "        <td>931225-3158</td>\n",
       "    </tr>\n",
       "    <tr>\n",
       "        <td>Bo</td>\n",
       "        <td>Ek</td>\n",
       "        <td>850819-2139</td>\n",
       "    </tr>\n",
       "    <tr>\n",
       "        <td>Erik</td>\n",
       "        <td>Andersson</td>\n",
       "        <td>891220-1393</td>\n",
       "    </tr>\n",
       "    <tr>\n",
       "        <td>Erik</td>\n",
       "        <td>Andersson</td>\n",
       "        <td>900313-2257</td>\n",
       "    </tr>\n",
       "</table>"
      ],
      "text/plain": [
       "[('Anna', 'Johansson', '950705-2308'),\n",
       " ('Anna', 'Johansson', '930702-3582'),\n",
       " ('Bo', 'Ek', '861103-2438'),\n",
       " ('Bo', 'Ek', '931225-3158'),\n",
       " ('Bo', 'Ek', '850819-2139'),\n",
       " ('Erik', 'Andersson', '891220-1393'),\n",
       " ('Erik', 'Andersson', '900313-2257')]"
      ]
     },
     "execution_count": 263,
     "metadata": {},
     "output_type": "execute_result"
    }
   ],
   "source": [
    "%%sql\n",
    "\n",
    "WITH namesake AS (\n",
    "            SELECT  first_name, last_name\n",
    "            FROM students\n",
    "            GROUP BY first_name, last_name\n",
    "            HAVING count() >= 2\n",
    "        )\n",
    "SELECT first_name , last_name , ssn \n",
    "FROM namesake\n",
    "JOIN students\n",
    "USING (first_name, last_name)"
   ]
  },
  {
   "cell_type": "markdown",
   "id": "276c58da",
   "metadata": {},
   "source": [
    "Use a subquery:"
   ]
  },
  {
   "cell_type": "code",
   "execution_count": 240,
   "id": "1e02f4e5",
   "metadata": {
    "attributes": {
     "classes": [
      "clear"
     ],
     "id": ""
    }
   },
   "outputs": [
    {
     "name": "stdout",
     "output_type": "stream",
     "text": [
      " * sqlite:///lab1.sqlite\n",
      "Done.\n"
     ]
    },
    {
     "data": {
      "text/html": [
       "<table>\n",
       "    <tr>\n",
       "        <th>first_name</th>\n",
       "        <th>last_name</th>\n",
       "        <th>ssn</th>\n",
       "    </tr>\n",
       "    <tr>\n",
       "        <td>Anna</td>\n",
       "        <td>Johansson</td>\n",
       "        <td>950705-2308</td>\n",
       "    </tr>\n",
       "    <tr>\n",
       "        <td>Anna</td>\n",
       "        <td>Johansson</td>\n",
       "        <td>930702-3582</td>\n",
       "    </tr>\n",
       "    <tr>\n",
       "        <td>Bo</td>\n",
       "        <td>Ek</td>\n",
       "        <td>861103-2438</td>\n",
       "    </tr>\n",
       "    <tr>\n",
       "        <td>Bo</td>\n",
       "        <td>Ek</td>\n",
       "        <td>931225-3158</td>\n",
       "    </tr>\n",
       "    <tr>\n",
       "        <td>Bo</td>\n",
       "        <td>Ek</td>\n",
       "        <td>850819-2139</td>\n",
       "    </tr>\n",
       "    <tr>\n",
       "        <td>Erik</td>\n",
       "        <td>Andersson</td>\n",
       "        <td>891220-1393</td>\n",
       "    </tr>\n",
       "    <tr>\n",
       "        <td>Erik</td>\n",
       "        <td>Andersson</td>\n",
       "        <td>900313-2257</td>\n",
       "    </tr>\n",
       "</table>"
      ],
      "text/plain": [
       "[('Anna', 'Johansson', '950705-2308'),\n",
       " ('Anna', 'Johansson', '930702-3582'),\n",
       " ('Bo', 'Ek', '861103-2438'),\n",
       " ('Bo', 'Ek', '931225-3158'),\n",
       " ('Bo', 'Ek', '850819-2139'),\n",
       " ('Erik', 'Andersson', '891220-1393'),\n",
       " ('Erik', 'Andersson', '900313-2257')]"
      ]
     },
     "execution_count": 240,
     "metadata": {},
     "output_type": "execute_result"
    }
   ],
   "source": [
    "%%sql\n",
    "\n",
    "WITH namesake AS (\n",
    "            SELECT  first_name, last_name\n",
    "            FROM students\n",
    "            GROUP BY first_name, last_name\n",
    "            HAVING count() >= 2\n",
    "        )\n",
    "SELECT first_name, last_name, ssn\n",
    "FROM students \n",
    "WHERE first_name IN (\n",
    "    SELECT first_name \n",
    "    FROM namesake\n",
    ") AND last_name IN (\n",
    "     SELECT last_name \n",
    "    FROM namesake\n",
    ")\n",
    "\n",
    "\n"
   ]
  }
 ],
 "metadata": {
  "kernelspec": {
   "display_name": "Python 3.7.3 ('base')",
   "language": "python",
   "name": "python3"
  },
  "language_info": {
   "codemirror_mode": {
    "name": "ipython",
    "version": 3
   },
   "file_extension": ".py",
   "mimetype": "text/x-python",
   "name": "python",
   "nbconvert_exporter": "python",
   "pygments_lexer": "ipython3",
   "version": "3.7.3"
  },
  "vscode": {
   "interpreter": {
    "hash": "ad2bdc8ecc057115af97d19610ffacc2b4e99fae6737bb82f5d7fb13d2f2c186"
   }
  }
 },
 "nbformat": 4,
 "nbformat_minor": 5
}
