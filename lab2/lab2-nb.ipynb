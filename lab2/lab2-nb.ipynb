{
 "cells": [
  {
   "cell_type": "markdown",
   "id": "bb3c1a0d",
   "metadata": {},
   "source": [
    "<!-- -*- mode: markdown; coding: utf-8; fill-column: 60; ispell-dictionary: \"english\" -*- -->\n",
    "\n",
    "<meta charset=\"utf-8\"/>\n",
    "<meta name=\"viewport\" content=\"width=device-width,initial-scale=1\"/>\n",
    "<link rel=\"stylesheet\" href=\"style.css\">\n",
    "\n",
    "\n",
    "# EDAF75 - lab 2: Testing the database\n",
    "\n",
    "As usual we have to tell Jupyter to allow SQL:"
   ]
  },
  {
   "cell_type": "code",
   "execution_count": 148,
   "id": "792e4a6d",
   "metadata": {},
   "outputs": [
    {
     "name": "stdout",
     "output_type": "stream",
     "text": [
      "The sql extension is already loaded. To reload it, use:\n",
      "  %reload_ext sql\n"
     ]
    }
   ],
   "source": [
    "%load_ext sql"
   ]
  },
  {
   "cell_type": "markdown",
   "id": "2e91bc1a",
   "metadata": {},
   "source": [
    "And then we import our movie database"
   ]
  },
  {
   "cell_type": "code",
   "execution_count": 149,
   "id": "fb00b0fc",
   "metadata": {},
   "outputs": [],
   "source": [
    "%sql sqlite:///movies.sqlite"
   ]
  },
  {
   "cell_type": "markdown",
   "id": "decef542",
   "metadata": {},
   "source": [
    "We want to make sure that SQLite3 really checks our foreign\n",
    "key constraints -- to do that, we run:"
   ]
  },
  {
   "cell_type": "code",
   "execution_count": 150,
   "id": "5f6b6d35",
   "metadata": {},
   "outputs": [
    {
     "name": "stdout",
     "output_type": "stream",
     "text": [
      " * sqlite:///movies.sqlite\n",
      "Done.\n"
     ]
    },
    {
     "data": {
      "text/plain": [
       "[]"
      ]
     },
     "execution_count": 150,
     "metadata": {},
     "output_type": "execute_result"
    }
   ],
   "source": [
    "%%sql\n",
    "PRAGMA foreign_keys=ON;"
   ]
  },
  {
   "cell_type": "markdown",
   "id": "02816c38",
   "metadata": {},
   "source": [
    "## SQL statements to review at the lab session\n",
    "\n",
    "Write SQL code for the following tasks:\n",
    "\n",
    "+ Show the names of all movies."
   ]
  },
  {
   "cell_type": "code",
   "execution_count": 151,
   "id": "21ccc1e2",
   "metadata": {},
   "outputs": [
    {
     "name": "stdout",
     "output_type": "stream",
     "text": [
      " * sqlite:///movies.sqlite\n",
      "Done.\n"
     ]
    },
    {
     "data": {
      "text/html": [
       "<table>\n",
       "    <tr>\n",
       "        <th>movie_name</th>\n",
       "    </tr>\n",
       "    <tr>\n",
       "        <td>Alien</td>\n",
       "    </tr>\n",
       "    <tr>\n",
       "        <td>Pulp Fiction</td>\n",
       "    </tr>\n",
       "    <tr>\n",
       "        <td>Interstellar</td>\n",
       "    </tr>\n",
       "</table>"
      ],
      "text/plain": [
       "[('Alien',), ('Pulp Fiction',), ('Interstellar',)]"
      ]
     },
     "execution_count": 151,
     "metadata": {},
     "output_type": "execute_result"
    }
   ],
   "source": [
    "%%sql\n",
    "\n",
    "SELECT movie_name\n",
    "FROM movies"
   ]
  },
  {
   "cell_type": "markdown",
   "id": "89c5e8d7",
   "metadata": {},
   "source": [
    "+ Show the performance dates for one of the movies."
   ]
  },
  {
   "cell_type": "code",
   "execution_count": 152,
   "id": "9900da80",
   "metadata": {},
   "outputs": [
    {
     "name": "stdout",
     "output_type": "stream",
     "text": [
      " * sqlite:///movies.sqlite\n",
      "Done.\n"
     ]
    },
    {
     "data": {
      "text/html": [
       "<table>\n",
       "    <tr>\n",
       "        <th>performance_date</th>\n",
       "    </tr>\n",
       "    <tr>\n",
       "        <td>2023-02-23</td>\n",
       "    </tr>\n",
       "    <tr>\n",
       "        <td>2023-02-24</td>\n",
       "    </tr>\n",
       "</table>"
      ],
      "text/plain": [
       "[('2023-02-23',), ('2023-02-24',)]"
      ]
     },
     "execution_count": 152,
     "metadata": {},
     "output_type": "execute_result"
    }
   ],
   "source": [
    "%%sql\n",
    "\n",
    "SELECT performance_date\n",
    "FROM performances\n",
    "JOIN movies\n",
    "USING (imdb_key)\n",
    "WHERE movie_name = 'Interstellar' AND production_year = 2014\n",
    "GROUP BY performance_date"
   ]
  },
  {
   "cell_type": "markdown",
   "id": "9ab94c2c",
   "metadata": {},
   "source": [
    "+ Show all data concerning performances at a given theatere\n",
    "  on a given date."
   ]
  },
  {
   "cell_type": "code",
   "execution_count": 153,
   "id": "459a5c87",
   "metadata": {},
   "outputs": [
    {
     "name": "stdout",
     "output_type": "stream",
     "text": [
      " * sqlite:///movies.sqlite\n",
      "Done.\n"
     ]
    },
    {
     "data": {
      "text/html": [
       "<table>\n",
       "    <tr>\n",
       "        <th>performance_id</th>\n",
       "        <th>start_time</th>\n",
       "        <th>performance_date</th>\n",
       "        <th>theater_name</th>\n",
       "        <th>imdb_key</th>\n",
       "    </tr>\n",
       "    <tr>\n",
       "        <td>1</td>\n",
       "        <td>12:00</td>\n",
       "        <td>2023-02-23</td>\n",
       "        <td>Lund</td>\n",
       "        <td>tt0078748</td>\n",
       "    </tr>\n",
       "    <tr>\n",
       "        <td>2</td>\n",
       "        <td>15:00</td>\n",
       "        <td>2023-02-23</td>\n",
       "        <td>Lund</td>\n",
       "        <td>tt0110912</td>\n",
       "    </tr>\n",
       "    <tr>\n",
       "        <td>3</td>\n",
       "        <td>18:00</td>\n",
       "        <td>2023-02-23</td>\n",
       "        <td>Lund</td>\n",
       "        <td>tt0816692</td>\n",
       "    </tr>\n",
       "</table>"
      ],
      "text/plain": [
       "[(1, '12:00', '2023-02-23', 'Lund', 'tt0078748'),\n",
       " (2, '15:00', '2023-02-23', 'Lund', 'tt0110912'),\n",
       " (3, '18:00', '2023-02-23', 'Lund', 'tt0816692')]"
      ]
     },
     "execution_count": 153,
     "metadata": {},
     "output_type": "execute_result"
    }
   ],
   "source": [
    "%%sql\n",
    "\n",
    "SELECT * \n",
    "FROM performances\n",
    "WHERE theater_name = 'Lund' AND performance_date = '2023-02-23'"
   ]
  },
  {
   "cell_type": "markdown",
   "id": "ace77d16",
   "metadata": {},
   "source": [
    "+ List all customers"
   ]
  },
  {
   "cell_type": "code",
   "execution_count": 154,
   "id": "c551fef8",
   "metadata": {},
   "outputs": [
    {
     "name": "stdout",
     "output_type": "stream",
     "text": [
      " * sqlite:///movies.sqlite\n",
      "Done.\n"
     ]
    },
    {
     "data": {
      "text/html": [
       "<table>\n",
       "    <tr>\n",
       "        <th>full_name</th>\n",
       "    </tr>\n",
       "    <tr>\n",
       "        <td>Filip Lennhager</td>\n",
       "    </tr>\n",
       "    <tr>\n",
       "        <td>Jonathan Do</td>\n",
       "    </tr>\n",
       "    <tr>\n",
       "        <td>Felix R??d??n</td>\n",
       "    </tr>\n",
       "</table>"
      ],
      "text/plain": [
       "[('Filip Lennhager',), ('Jonathan Do',), ('Felix R??d??n',)]"
      ]
     },
     "execution_count": 154,
     "metadata": {},
     "output_type": "execute_result"
    }
   ],
   "source": [
    "%%sql\n",
    "\n",
    "SELECT full_name\n",
    "FROM customers"
   ]
  },
  {
   "cell_type": "markdown",
   "id": "0774be11",
   "metadata": {},
   "source": [
    "+ List all tickets"
   ]
  },
  {
   "cell_type": "code",
   "execution_count": 155,
   "id": "0bf77995",
   "metadata": {},
   "outputs": [
    {
     "name": "stdout",
     "output_type": "stream",
     "text": [
      " * sqlite:///movies.sqlite\n",
      "Done.\n"
     ]
    },
    {
     "data": {
      "text/html": [
       "<table>\n",
       "    <tr>\n",
       "        <th>ticket_id</th>\n",
       "        <th>performance_id</th>\n",
       "        <th>username</th>\n",
       "    </tr>\n",
       "    <tr>\n",
       "        <td>56dbb09bcfe46e487afd8fcdda7c1dda</td>\n",
       "        <td>1</td>\n",
       "        <td>fi1234le</td>\n",
       "    </tr>\n",
       "    <tr>\n",
       "        <td>63d89a6f6804226b6535e34ce9a3eb77</td>\n",
       "        <td>2</td>\n",
       "        <td>fe1234r??</td>\n",
       "    </tr>\n",
       "    <tr>\n",
       "        <td>0047a853e345759a0e11f08b2e95cb40</td>\n",
       "        <td>3</td>\n",
       "        <td>jo1234do</td>\n",
       "    </tr>\n",
       "</table>"
      ],
      "text/plain": [
       "[('56dbb09bcfe46e487afd8fcdda7c1dda', 1, 'fi1234le'),\n",
       " ('63d89a6f6804226b6535e34ce9a3eb77', 2, 'fe1234r??'),\n",
       " ('0047a853e345759a0e11f08b2e95cb40', 3, 'jo1234do')]"
      ]
     },
     "execution_count": 155,
     "metadata": {},
     "output_type": "execute_result"
    }
   ],
   "source": [
    "%%sql\n",
    "\n",
    "SELECT *\n",
    "FROM tickets"
   ]
  },
  {
   "cell_type": "markdown",
   "id": "afb81877",
   "metadata": {},
   "source": [
    "## Things to try out yourselves (not reviewed at the lab session)\n",
    "\n",
    "During lab 3 you'll write a REST service for the database\n",
    "you just created, and for the server to work properly, the\n",
    "things below should work.\n",
    "\n",
    "If you have any questions about the material below, feel\n",
    "free to ask them at the QA sessions (see Moodle for how to\n",
    "sign up for them).\n",
    "\n",
    "\n",
    "+ Create a new ticket to some performance (i.e., insert a\n",
    "  new row in your table of tickets)."
   ]
  },
  {
   "cell_type": "code",
   "execution_count": 156,
   "id": "e5ceb199",
   "metadata": {},
   "outputs": [
    {
     "name": "stdout",
     "output_type": "stream",
     "text": [
      " * sqlite:///movies.sqlite\n",
      "Done.\n"
     ]
    },
    {
     "data": {
      "text/html": [
       "<table>\n",
       "    <tr>\n",
       "        <th>username</th>\n",
       "    </tr>\n",
       "    <tr>\n",
       "        <td>fe1234r??</td>\n",
       "    </tr>\n",
       "    <tr>\n",
       "        <td>fi1234le</td>\n",
       "    </tr>\n",
       "    <tr>\n",
       "        <td>jo1234do</td>\n",
       "    </tr>\n",
       "</table>"
      ],
      "text/plain": [
       "[('fe1234r??',), ('fi1234le',), ('jo1234do',)]"
      ]
     },
     "execution_count": 156,
     "metadata": {},
     "output_type": "execute_result"
    }
   ],
   "source": [
    "%%sql\n",
    "\n",
    "SELECT username \n",
    "FROM customers"
   ]
  },
  {
   "cell_type": "code",
   "execution_count": 157,
   "id": "f70044cd",
   "metadata": {},
   "outputs": [
    {
     "name": "stdout",
     "output_type": "stream",
     "text": [
      " * sqlite:///movies.sqlite\n",
      "Done.\n"
     ]
    },
    {
     "data": {
      "text/html": [
       "<table>\n",
       "    <tr>\n",
       "        <th>performance_id</th>\n",
       "    </tr>\n",
       "    <tr>\n",
       "        <td>1</td>\n",
       "    </tr>\n",
       "    <tr>\n",
       "        <td>2</td>\n",
       "    </tr>\n",
       "    <tr>\n",
       "        <td>3</td>\n",
       "    </tr>\n",
       "    <tr>\n",
       "        <td>4</td>\n",
       "    </tr>\n",
       "    <tr>\n",
       "        <td>5</td>\n",
       "    </tr>\n",
       "    <tr>\n",
       "        <td>6</td>\n",
       "    </tr>\n",
       "</table>"
      ],
      "text/plain": [
       "[(1,), (2,), (3,), (4,), (5,), (6,)]"
      ]
     },
     "execution_count": 157,
     "metadata": {},
     "output_type": "execute_result"
    }
   ],
   "source": [
    "%%sql\n",
    "\n",
    "SELECT performance_id\n",
    "FROM performances\n"
   ]
  },
  {
   "cell_type": "code",
   "execution_count": 158,
   "id": "7e1478cf",
   "metadata": {},
   "outputs": [
    {
     "name": "stdout",
     "output_type": "stream",
     "text": [
      " * sqlite:///movies.sqlite\n",
      "1 rows affected.\n"
     ]
    },
    {
     "data": {
      "text/plain": [
       "[]"
      ]
     },
     "execution_count": 158,
     "metadata": {},
     "output_type": "execute_result"
    }
   ],
   "source": [
    "%%sql\n",
    "\n",
    "INSERT\n",
    "INTO       tickets (performance_id, username)\n",
    "VALUES  (6,'fi1234le');"
   ]
  },
  {
   "cell_type": "markdown",
   "id": "01e70c8c",
   "metadata": {},
   "source": [
    "In newer versions of SQLite (since version 3.35, released\n",
    "  in March 2021), and in\n",
    "  [PostgreSQL](https://www.postgresql.org/docs/current/sql-insert.html),\n",
    "  we can get any value generated during an insert using the\n",
    "  `INSERT...-RETURNING` statement:"
   ]
  },
  {
   "cell_type": "markdown",
   "id": "1f8148a8",
   "metadata": {},
   "source": [
    "~~~{.sql}\n",
    "INSERT\n",
    "INTO       students\n",
    "VALUES     ('Amy', 3.9, 1200)\n",
    "RETURNING  s_id\n",
    "~~~\n"
   ]
  },
  {
   "cell_type": "markdown",
   "id": "908a6f5a",
   "metadata": {},
   "source": [
    "which would return the generated `s_id` for the new\n",
    "  student.\n",
    "\n",
    "  If your SQLite version is older than 3.35, and you can't\n",
    "  upgrade, you can instead use the following idea: each row\n",
    "  in a SQLite3 table has a `rowid` attribute, it is a unique\n",
    "  integer which essentially tells in which order the rows\n",
    "  were inserted, and it's not displayed in queries unless we\n",
    "  ask for it. SQLite3 also have a function,\n",
    "  `last_insert_rowid()`, which returns the `rowid` of the\n",
    "  last inserted row of a table, so we can see the `s_id` of\n",
    "  the most recently inserted student with the following\n",
    "  query:"
   ]
  },
  {
   "cell_type": "markdown",
   "id": "3b9f32eb",
   "metadata": {},
   "source": [
    "~~~{.sql}\n",
    "SELECT s_id\n",
    "FROM   students\n",
    "WHERE  rowid = last_insert_rowid();\n",
    "~~~\n"
   ]
  },
  {
   "cell_type": "markdown",
   "id": "46cac377",
   "metadata": {},
   "source": [
    "Now, check what ticket number we got for the ticket we\n",
    "  created above (it should be the same as the ticket id,\n",
    "  which should be a `randomblob`):"
   ]
  },
  {
   "cell_type": "code",
   "execution_count": 159,
   "id": "2aea0210",
   "metadata": {},
   "outputs": [
    {
     "name": "stdout",
     "output_type": "stream",
     "text": [
      " * sqlite:///movies.sqlite\n",
      "Done.\n"
     ]
    },
    {
     "data": {
      "text/html": [
       "<table>\n",
       "    <tr>\n",
       "        <th>ticket_id</th>\n",
       "    </tr>\n",
       "    <tr>\n",
       "        <td>89ec1a801faf86cd5b2b410f0e13c555</td>\n",
       "    </tr>\n",
       "</table>"
      ],
      "text/plain": [
       "[('89ec1a801faf86cd5b2b410f0e13c555',)]"
      ]
     },
     "execution_count": 159,
     "metadata": {},
     "output_type": "execute_result"
    }
   ],
   "source": [
    "%%sql\n",
    "\n",
    "SELECT ticket_id\n",
    "FROM   tickets\n",
    "WHERE  rowid = last_insert_rowid();"
   ]
  },
  {
   "cell_type": "markdown",
   "id": "eef3cca5",
   "metadata": {},
   "source": [
    "+ Try to insert two movie theaters with the same name (this\n",
    "  should fail)."
   ]
  },
  {
   "cell_type": "code",
   "execution_count": 160,
   "id": "464c7e18",
   "metadata": {},
   "outputs": [
    {
     "name": "stdout",
     "output_type": "stream",
     "text": [
      " * sqlite:///movies.sqlite\n",
      "(sqlite3.IntegrityError) UNIQUE constraint failed: theaters.theater_name\n",
      "[SQL: INSERT\n",
      "INTO        theaters\n",
      "VALUES      ('Stockholm', 100),\n",
      "            ('Stockholm', 200);]\n",
      "(Background on this error at: http://sqlalche.me/e/gkpj)\n"
     ]
    }
   ],
   "source": [
    "%%sql\n",
    "\n",
    "INSERT\n",
    "INTO        theaters\n",
    "VALUES      ('Stockholm', 100),\n",
    "            ('Stockholm', 200);\n"
   ]
  },
  {
   "cell_type": "markdown",
   "id": "491b5d76",
   "metadata": {},
   "source": [
    "+ Try to insert a performance where the theater doesn't\n",
    "  exist in the database (this should fail)."
   ]
  },
  {
   "cell_type": "code",
   "execution_count": 161,
   "id": "59606ca2",
   "metadata": {},
   "outputs": [
    {
     "name": "stdout",
     "output_type": "stream",
     "text": [
      " * sqlite:///movies.sqlite\n",
      "(sqlite3.IntegrityError) FOREIGN KEY constraint failed\n",
      "[SQL: INSERT\n",
      "INTO       performances(start_time, performance_date, theater_name, imdb_key)\n",
      "VALUES     ('19:30', '2023-01-01', 'Kiruna', 'tt0078748' )]\n",
      "(Background on this error at: http://sqlalche.me/e/gkpj)\n"
     ]
    }
   ],
   "source": [
    "%%sql\n",
    "\n",
    "INSERT\n",
    "INTO       performances(start_time, performance_date, theater_name, imdb_key)\n",
    "VALUES     ('19:30', '2023-01-01', 'Kiruna', 'tt0078748' )"
   ]
  },
  {
   "cell_type": "markdown",
   "id": "c3590701",
   "metadata": {},
   "source": [
    "+ Create a ticket where either the user or the performance\n",
    "  doesn't exist (this should fail)."
   ]
  },
  {
   "cell_type": "code",
   "execution_count": 162,
   "id": "744b7212",
   "metadata": {},
   "outputs": [
    {
     "name": "stdout",
     "output_type": "stream",
     "text": [
      " * sqlite:///movies.sqlite\n",
      "(sqlite3.IntegrityError) FOREIGN KEY constraint failed\n",
      "[SQL: INSERT\n",
      "INTO       tickets (performance_id, username)\n",
      "VALUES     (1, 'finnsEj')]\n",
      "(Background on this error at: http://sqlalche.me/e/gkpj)\n"
     ]
    }
   ],
   "source": [
    "%%sql\n",
    "\n",
    "INSERT\n",
    "INTO       tickets (performance_id, username)\n",
    "VALUES     (1, 'finnsEj')"
   ]
  },
  {
   "cell_type": "code",
   "execution_count": 163,
   "id": "2664d7c6",
   "metadata": {},
   "outputs": [
    {
     "name": "stdout",
     "output_type": "stream",
     "text": [
      " * sqlite:///movies.sqlite\n",
      "(sqlite3.IntegrityError) FOREIGN KEY constraint failed\n",
      "[SQL: INSERT\n",
      "INTO       tickets (performance_id, username)\n",
      "VALUES     (99, 'fi1234le')]\n",
      "(Background on this error at: http://sqlalche.me/e/gkpj)\n"
     ]
    }
   ],
   "source": [
    "%%sql\n",
    "\n",
    "INSERT\n",
    "INTO       tickets (performance_id, username)\n",
    "VALUES     (99, 'fi1234le')"
   ]
  },
  {
   "cell_type": "code",
   "execution_count": 164,
   "id": "6e7f1273",
   "metadata": {},
   "outputs": [
    {
     "name": "stdout",
     "output_type": "stream",
     "text": [
      " * sqlite:///movies.sqlite\n",
      "Done.\n"
     ]
    },
    {
     "data": {
      "text/html": [
       "<table>\n",
       "    <tr>\n",
       "        <th>ticket_id</th>\n",
       "        <th>performance_id</th>\n",
       "        <th>username</th>\n",
       "    </tr>\n",
       "    <tr>\n",
       "        <td>56dbb09bcfe46e487afd8fcdda7c1dda</td>\n",
       "        <td>1</td>\n",
       "        <td>fi1234le</td>\n",
       "    </tr>\n",
       "    <tr>\n",
       "        <td>63d89a6f6804226b6535e34ce9a3eb77</td>\n",
       "        <td>2</td>\n",
       "        <td>fe1234r??</td>\n",
       "    </tr>\n",
       "    <tr>\n",
       "        <td>0047a853e345759a0e11f08b2e95cb40</td>\n",
       "        <td>3</td>\n",
       "        <td>jo1234do</td>\n",
       "    </tr>\n",
       "    <tr>\n",
       "        <td>89ec1a801faf86cd5b2b410f0e13c555</td>\n",
       "        <td>6</td>\n",
       "        <td>fi1234le</td>\n",
       "    </tr>\n",
       "</table>"
      ],
      "text/plain": [
       "[('56dbb09bcfe46e487afd8fcdda7c1dda', 1, 'fi1234le'),\n",
       " ('63d89a6f6804226b6535e34ce9a3eb77', 2, 'fe1234r??'),\n",
       " ('0047a853e345759a0e11f08b2e95cb40', 3, 'jo1234do'),\n",
       " ('89ec1a801faf86cd5b2b410f0e13c555', 6, 'fi1234le')]"
      ]
     },
     "execution_count": 164,
     "metadata": {},
     "output_type": "execute_result"
    }
   ],
   "source": [
    "%%sql\n",
    "\n",
    "SELECT *\n",
    "FROM tickets"
   ]
  }
 ],
 "metadata": {
  "kernelspec": {
   "display_name": "Python 3.7.3 ('base')",
   "language": "python",
   "name": "python3"
  },
  "language_info": {
   "codemirror_mode": {
    "name": "ipython",
    "version": 3
   },
   "file_extension": ".py",
   "mimetype": "text/x-python",
   "name": "python",
   "nbconvert_exporter": "python",
   "pygments_lexer": "ipython3",
   "version": "3.7.3"
  },
  "vscode": {
   "interpreter": {
    "hash": "ad2bdc8ecc057115af97d19610ffacc2b4e99fae6737bb82f5d7fb13d2f2c186"
   }
  }
 },
 "nbformat": 4,
 "nbformat_minor": 5
}
